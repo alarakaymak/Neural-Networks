{
 "cells": [
  {
   "cell_type": "markdown",
   "metadata": {
    "deletable": false,
    "editable": false,
    "id": "uZuGNXc58pgl",
    "nbgrader": {
     "checksum": "bd351c656394462210b44ab30563d6d8",
     "grade": false,
     "grade_id": "cell-5bd0d73f7d1ab20c",
     "locked": true,
     "schema_version": 1,
     "solution": false
    }
   },
   "source": [
    "# Binary Classification on Tabular Data - Predicting Abnormal ECG Scans\n",
    "\n",
    "\n",
    "\n"
   ]
  },
  {
   "cell_type": "markdown",
   "metadata": {
    "deletable": false,
    "editable": false,
    "id": "PTigfjFI8pgn",
    "nbgrader": {
     "checksum": "e3c2268d4c1c25ef0145d3eec4166f4a",
     "grade": false,
     "grade_id": "cell-1009b41e3b7b91c4",
     "locked": true,
     "schema_version": 1,
     "solution": false
    }
   },
   "source": [
    "## Introduction\n",
    "\n",
    "In this example, you will train an autoencoder to detect anomalies on the ECG5000 dataset. This dataset contains 5,000 Electrocardiograms, each with 140 data points. You will use a simplified version of the dataset, where each example has been labeled either 0 (corresponding to an abnormal rhythm), or 1 (corresponding to a normal rhythm). You are interested in identifying the abnormal rhythms."
   ]
  },
  {
   "cell_type": "markdown",
   "metadata": {
    "deletable": false,
    "editable": false,
    "id": "-7YELlPx8pgo",
    "nbgrader": {
     "checksum": "9a95122232b08fd33facadf9a7ec6dee",
     "grade": false,
     "grade_id": "cell-8a436a281fdcabd7",
     "locked": true,
     "schema_version": 1,
     "solution": false
    }
   },
   "source": [
    "## Technical preliminaries\n"
   ]
  },
  {
   "cell_type": "code",
   "execution_count": 1,
   "metadata": {
    "deletable": false,
    "editable": false,
    "id": "oqhnaoXC8pgp",
    "nbgrader": {
     "checksum": "995ed6ff4cf008bc164abc8f0595aba2",
     "grade": false,
     "grade_id": "cell-fb804c09f55219b3",
     "locked": true,
     "schema_version": 1,
     "solution": false
    }
   },
   "outputs": [],
   "source": [
    "import tensorflow as tf\n",
    "from tensorflow import keras\n",
    "import numpy as np\n",
    "import pandas as pd\n",
    "import matplotlib.pyplot as plt\n",
    "\n",
    "# initialize the seeds of different random number generators so that the \n",
    "# results will be the same every time the notebook is run\n",
    "tf.random.set_seed(42)\n",
    "\n",
    "pd.options.mode.chained_assignment = None"
   ]
  },
  {
   "cell_type": "markdown",
   "metadata": {
    "deletable": false,
    "editable": false,
    "id": "tRS8tSL-8pgp",
    "nbgrader": {
     "checksum": "8ecbabd550bc640c11c6793c52abb055",
     "grade": false,
     "grade_id": "cell-d78c567f0b58ab7e",
     "locked": true,
     "schema_version": 1,
     "solution": false
    }
   },
   "source": [
    "## Read in the data\n",
    "\n",
    "Conveniently, the dataset in CSV form has been made available online and we can load it into a Pandas dataframe with the very useful `pd.read_csv` command."
   ]
  },
  {
   "cell_type": "code",
   "execution_count": 2,
   "metadata": {
    "deletable": false,
    "editable": false,
    "id": "UwIi1uXT8pgq",
    "nbgrader": {
     "checksum": "ed9c8f1ab67a4efbfb0105d6918064ff",
     "grade": false,
     "grade_id": "cell-d42d1f591411a315",
     "locked": true,
     "schema_version": 1,
     "solution": false
    }
   },
   "outputs": [],
   "source": [
    "#Because each column of data represents a datapoint we will name the columns by the sequence of datapoints \n",
    "# (1,2,3...140)\n",
    "names = []\n",
    "for i in range(140):\n",
    "    names.append(i)\n",
    "# The last column will be the target or dependent variable\n",
    "names.append('Target')\n"
   ]
  },
  {
   "cell_type": "markdown",
   "metadata": {
    "deletable": false,
    "editable": false,
    "nbgrader": {
     "checksum": "5069180be22be05ee561a7bdc3e56fb0",
     "grade": false,
     "grade_id": "cell-d650d1e2090ee2d3",
     "locked": true,
     "schema_version": 1,
     "solution": false
    }
   },
   "source": [
    "#### Read in the data from http://storage.googleapis.com/download.tensorflow.org/data/ecg.csv and set the column names from the list created in the box above"
   ]
  },
  {
   "cell_type": "code",
   "execution_count": 5,
   "metadata": {
    "deletable": false,
    "nbgrader": {
     "checksum": "28af079b70d9baf4adcd626ae687481a",
     "grade": false,
     "grade_id": "cell-a3681aa1d74b4d56",
     "locked": false,
     "schema_version": 1,
     "solution": true
    }
   },
   "outputs": [],
   "source": [
    "# YOUR CODE HERE\n",
    "df = pd.read_csv((\"http://storage.googleapis.com/download.tensorflow.org/data/ecg.csv\"), names = names)"
   ]
  },
  {
   "cell_type": "code",
   "execution_count": null,
   "metadata": {
    "deletable": false,
    "editable": false,
    "nbgrader": {
     "checksum": "bd6d65d5f68731abb05e40fa319c9723",
     "grade": true,
     "grade_id": "cell-ce1f681db4513739",
     "locked": true,
     "points": 1,
     "schema_version": 1,
     "solution": false
    }
   },
   "outputs": [],
   "source": []
  },
  {
   "cell_type": "code",
   "execution_count": 6,
   "metadata": {
    "colab": {
     "base_uri": "https://localhost:8080/"
    },
    "deletable": false,
    "editable": false,
    "id": "y0gs3ULo8pgr",
    "nbgrader": {
     "checksum": "6ff643af328f7bd49bb60980d1675554",
     "grade": false,
     "grade_id": "cell-6f325eb1e9b56b75",
     "locked": true,
     "schema_version": 1,
     "solution": false
    },
    "outputId": "87e9430f-56ab-48fb-c7ad-430ee18cd888"
   },
   "outputs": [
    {
     "data": {
      "text/plain": [
       "(4998, 141)"
      ]
     },
     "execution_count": 6,
     "metadata": {},
     "output_type": "execute_result"
    }
   ],
   "source": [
    "df.shape"
   ]
  },
  {
   "cell_type": "markdown",
   "metadata": {
    "deletable": false,
    "editable": false,
    "id": "mWQPAk_R8pgq",
    "nbgrader": {
     "checksum": "a49ab069fb8478ddf6f042e08d402403",
     "grade": false,
     "grade_id": "cell-3dbd9430393cb94d",
     "locked": true,
     "schema_version": 1,
     "solution": false
    }
   },
   "source": [
    "##### The dataset has 4998 rows and 141 columns (140 independent variables + 1 dependent variable):"
   ]
  },
  {
   "cell_type": "markdown",
   "metadata": {
    "deletable": false,
    "editable": false,
    "id": "RV1UP8MN8pgr",
    "nbgrader": {
     "checksum": "91fe41a3e306605ceece044c0549e5bf",
     "grade": false,
     "grade_id": "cell-0d1ec85c5d6c0e8a",
     "locked": true,
     "schema_version": 1,
     "solution": false
    }
   },
   "source": [
    "##### Let's take a look at the first few rows:"
   ]
  },
  {
   "cell_type": "code",
   "execution_count": 7,
   "metadata": {
    "colab": {
     "base_uri": "https://localhost:8080/",
     "height": 206
    },
    "deletable": false,
    "editable": false,
    "id": "-z8LPV1n8pgr",
    "nbgrader": {
     "checksum": "c584f0364543c5a10055419940963847",
     "grade": false,
     "grade_id": "cell-320c4cc86cf6d691",
     "locked": true,
     "schema_version": 1,
     "solution": false
    },
    "outputId": "2894db90-b62b-4fc4-fd74-dc47a538158a"
   },
   "outputs": [
    {
     "data": {
      "text/html": [
       "<div>\n",
       "<style scoped>\n",
       "    .dataframe tbody tr th:only-of-type {\n",
       "        vertical-align: middle;\n",
       "    }\n",
       "\n",
       "    .dataframe tbody tr th {\n",
       "        vertical-align: top;\n",
       "    }\n",
       "\n",
       "    .dataframe thead th {\n",
       "        text-align: right;\n",
       "    }\n",
       "</style>\n",
       "<table border=\"1\" class=\"dataframe\">\n",
       "  <thead>\n",
       "    <tr style=\"text-align: right;\">\n",
       "      <th></th>\n",
       "      <th>0</th>\n",
       "      <th>1</th>\n",
       "      <th>2</th>\n",
       "      <th>3</th>\n",
       "      <th>4</th>\n",
       "      <th>5</th>\n",
       "      <th>6</th>\n",
       "      <th>7</th>\n",
       "      <th>8</th>\n",
       "      <th>9</th>\n",
       "      <th>...</th>\n",
       "      <th>131</th>\n",
       "      <th>132</th>\n",
       "      <th>133</th>\n",
       "      <th>134</th>\n",
       "      <th>135</th>\n",
       "      <th>136</th>\n",
       "      <th>137</th>\n",
       "      <th>138</th>\n",
       "      <th>139</th>\n",
       "      <th>Target</th>\n",
       "    </tr>\n",
       "  </thead>\n",
       "  <tbody>\n",
       "    <tr>\n",
       "      <th>0</th>\n",
       "      <td>-0.112522</td>\n",
       "      <td>-2.827204</td>\n",
       "      <td>-3.773897</td>\n",
       "      <td>-4.349751</td>\n",
       "      <td>-4.376041</td>\n",
       "      <td>-3.474986</td>\n",
       "      <td>-2.181408</td>\n",
       "      <td>-1.818287</td>\n",
       "      <td>-1.250522</td>\n",
       "      <td>-0.477492</td>\n",
       "      <td>...</td>\n",
       "      <td>0.792168</td>\n",
       "      <td>0.933541</td>\n",
       "      <td>0.796958</td>\n",
       "      <td>0.578621</td>\n",
       "      <td>0.257740</td>\n",
       "      <td>0.228077</td>\n",
       "      <td>0.123431</td>\n",
       "      <td>0.925286</td>\n",
       "      <td>0.193137</td>\n",
       "      <td>1.0</td>\n",
       "    </tr>\n",
       "    <tr>\n",
       "      <th>1</th>\n",
       "      <td>-1.100878</td>\n",
       "      <td>-3.996840</td>\n",
       "      <td>-4.285843</td>\n",
       "      <td>-4.506579</td>\n",
       "      <td>-4.022377</td>\n",
       "      <td>-3.234368</td>\n",
       "      <td>-1.566126</td>\n",
       "      <td>-0.992258</td>\n",
       "      <td>-0.754680</td>\n",
       "      <td>0.042321</td>\n",
       "      <td>...</td>\n",
       "      <td>0.538356</td>\n",
       "      <td>0.656881</td>\n",
       "      <td>0.787490</td>\n",
       "      <td>0.724046</td>\n",
       "      <td>0.555784</td>\n",
       "      <td>0.476333</td>\n",
       "      <td>0.773820</td>\n",
       "      <td>1.119621</td>\n",
       "      <td>-1.436250</td>\n",
       "      <td>1.0</td>\n",
       "    </tr>\n",
       "    <tr>\n",
       "      <th>2</th>\n",
       "      <td>-0.567088</td>\n",
       "      <td>-2.593450</td>\n",
       "      <td>-3.874230</td>\n",
       "      <td>-4.584095</td>\n",
       "      <td>-4.187449</td>\n",
       "      <td>-3.151462</td>\n",
       "      <td>-1.742940</td>\n",
       "      <td>-1.490658</td>\n",
       "      <td>-1.183580</td>\n",
       "      <td>-0.394229</td>\n",
       "      <td>...</td>\n",
       "      <td>0.886073</td>\n",
       "      <td>0.531452</td>\n",
       "      <td>0.311377</td>\n",
       "      <td>-0.021919</td>\n",
       "      <td>-0.713683</td>\n",
       "      <td>-0.532197</td>\n",
       "      <td>0.321097</td>\n",
       "      <td>0.904227</td>\n",
       "      <td>-0.421797</td>\n",
       "      <td>1.0</td>\n",
       "    </tr>\n",
       "    <tr>\n",
       "      <th>3</th>\n",
       "      <td>0.490473</td>\n",
       "      <td>-1.914407</td>\n",
       "      <td>-3.616364</td>\n",
       "      <td>-4.318823</td>\n",
       "      <td>-4.268016</td>\n",
       "      <td>-3.881110</td>\n",
       "      <td>-2.993280</td>\n",
       "      <td>-1.671131</td>\n",
       "      <td>-1.333884</td>\n",
       "      <td>-0.965629</td>\n",
       "      <td>...</td>\n",
       "      <td>0.350816</td>\n",
       "      <td>0.499111</td>\n",
       "      <td>0.600345</td>\n",
       "      <td>0.842069</td>\n",
       "      <td>0.952074</td>\n",
       "      <td>0.990133</td>\n",
       "      <td>1.086798</td>\n",
       "      <td>1.403011</td>\n",
       "      <td>-0.383564</td>\n",
       "      <td>1.0</td>\n",
       "    </tr>\n",
       "    <tr>\n",
       "      <th>4</th>\n",
       "      <td>0.800232</td>\n",
       "      <td>-0.874252</td>\n",
       "      <td>-2.384761</td>\n",
       "      <td>-3.973292</td>\n",
       "      <td>-4.338224</td>\n",
       "      <td>-3.802422</td>\n",
       "      <td>-2.534510</td>\n",
       "      <td>-1.783423</td>\n",
       "      <td>-1.594450</td>\n",
       "      <td>-0.753199</td>\n",
       "      <td>...</td>\n",
       "      <td>1.148884</td>\n",
       "      <td>0.958434</td>\n",
       "      <td>1.059025</td>\n",
       "      <td>1.371682</td>\n",
       "      <td>1.277392</td>\n",
       "      <td>0.960304</td>\n",
       "      <td>0.971020</td>\n",
       "      <td>1.614392</td>\n",
       "      <td>1.421456</td>\n",
       "      <td>1.0</td>\n",
       "    </tr>\n",
       "  </tbody>\n",
       "</table>\n",
       "<p>5 rows × 141 columns</p>\n",
       "</div>"
      ],
      "text/plain": [
       "          0         1         2         3         4         5         6  \\\n",
       "0 -0.112522 -2.827204 -3.773897 -4.349751 -4.376041 -3.474986 -2.181408   \n",
       "1 -1.100878 -3.996840 -4.285843 -4.506579 -4.022377 -3.234368 -1.566126   \n",
       "2 -0.567088 -2.593450 -3.874230 -4.584095 -4.187449 -3.151462 -1.742940   \n",
       "3  0.490473 -1.914407 -3.616364 -4.318823 -4.268016 -3.881110 -2.993280   \n",
       "4  0.800232 -0.874252 -2.384761 -3.973292 -4.338224 -3.802422 -2.534510   \n",
       "\n",
       "          7         8         9  ...       131       132       133       134  \\\n",
       "0 -1.818287 -1.250522 -0.477492  ...  0.792168  0.933541  0.796958  0.578621   \n",
       "1 -0.992258 -0.754680  0.042321  ...  0.538356  0.656881  0.787490  0.724046   \n",
       "2 -1.490658 -1.183580 -0.394229  ...  0.886073  0.531452  0.311377 -0.021919   \n",
       "3 -1.671131 -1.333884 -0.965629  ...  0.350816  0.499111  0.600345  0.842069   \n",
       "4 -1.783423 -1.594450 -0.753199  ...  1.148884  0.958434  1.059025  1.371682   \n",
       "\n",
       "        135       136       137       138       139  Target  \n",
       "0  0.257740  0.228077  0.123431  0.925286  0.193137     1.0  \n",
       "1  0.555784  0.476333  0.773820  1.119621 -1.436250     1.0  \n",
       "2 -0.713683 -0.532197  0.321097  0.904227 -0.421797     1.0  \n",
       "3  0.952074  0.990133  1.086798  1.403011 -0.383564     1.0  \n",
       "4  1.277392  0.960304  0.971020  1.614392  1.421456     1.0  \n",
       "\n",
       "[5 rows x 141 columns]"
      ]
     },
     "execution_count": 7,
     "metadata": {},
     "output_type": "execute_result"
    }
   ],
   "source": [
    "df.head()"
   ]
  },
  {
   "cell_type": "markdown",
   "metadata": {
    "deletable": false,
    "editable": false,
    "id": "Tp9o9bm58pgu",
    "nbgrader": {
     "checksum": "449deff95967799a709393657dfaafbb",
     "grade": false,
     "grade_id": "cell-6fedd885d836a14e",
     "locked": true,
     "schema_version": 1,
     "solution": false
    }
   },
   "source": [
    "## Preprocessing \n",
    "\n",
    "This dataset only has numeric variables. For concistancy sake, we will assign the column names to variable numerics. \n"
   ]
  },
  {
   "cell_type": "code",
   "execution_count": 8,
   "metadata": {
    "deletable": false,
    "editable": false,
    "id": "sY6ASs0BTlUh",
    "nbgrader": {
     "checksum": "c2ea39b566d51b2791dd81ef6e5831d4",
     "grade": false,
     "grade_id": "cell-21f5987fc0fa1fe7",
     "locked": true,
     "schema_version": 1,
     "solution": false
    }
   },
   "outputs": [],
   "source": [
    "numerics = names\n",
    "\n",
    "# Remove the dependent variable\n",
    "numerics.remove('Target') "
   ]
  },
  {
   "cell_type": "markdown",
   "metadata": {
    "deletable": false,
    "editable": false,
    "id": "eoptWoiTkNfb",
    "nbgrader": {
     "checksum": "a06b40868dced8ed248d56c220769456",
     "grade": false,
     "grade_id": "cell-2f2950e49f5d35af",
     "locked": true,
     "schema_version": 1,
     "solution": false
    }
   },
   "source": [
    "What % of the data is abnormal data?"
   ]
  },
  {
   "cell_type": "code",
   "execution_count": 9,
   "metadata": {
    "colab": {
     "base_uri": "https://localhost:8080/"
    },
    "deletable": false,
    "id": "AVV6DJiekAhJ",
    "nbgrader": {
     "checksum": "b9bcffad8b520f2d3017372e296b4a59",
     "grade": false,
     "grade_id": "cell-09d43ee37795e10c",
     "locked": false,
     "schema_version": 1,
     "solution": true
    },
    "outputId": "11fcf4e0-2190-4c2f-fe89-ec86fa8ca7da"
   },
   "outputs": [
    {
     "name": "stdout",
     "output_type": "stream",
     "text": [
      "1.0    0.584034\n",
      "0.0    0.415966\n",
      "Name: Target, dtype: float64\n"
     ]
    }
   ],
   "source": [
    "# Set the output to \"target_metrics\"\n",
    "# YOUR CODE HERE\n",
    "target_metrics = df.Target.value_counts(normalize=True)\n",
    "print(target_metrics)"
   ]
  },
  {
   "cell_type": "code",
   "execution_count": null,
   "metadata": {
    "deletable": false,
    "editable": false,
    "nbgrader": {
     "checksum": "3c7fed563d74f82d730c2bc921afc41b",
     "grade": true,
     "grade_id": "cell-c8d3fe28fe97679b",
     "locked": true,
     "points": 1,
     "schema_version": 1,
     "solution": false
    }
   },
   "outputs": [],
   "source": []
  },
  {
   "cell_type": "markdown",
   "metadata": {
    "deletable": false,
    "editable": false,
    "nbgrader": {
     "checksum": "c1fa72a51f0ec9f164e89d5a7ef79f53",
     "grade": false,
     "grade_id": "cell-86b025ff93f48ff1",
     "locked": true,
     "schema_version": 1,
     "solution": false
    }
   },
   "source": [
    "###### Extract the dependent variable "
   ]
  },
  {
   "cell_type": "code",
   "execution_count": 10,
   "metadata": {
    "deletable": false,
    "id": "c5p3QznOmh2x",
    "nbgrader": {
     "checksum": "c69324fbe894ead0ff59db7847e3c755",
     "grade": false,
     "grade_id": "cell-378d6d4f449de992",
     "locked": false,
     "schema_version": 1,
     "solution": true
    }
   },
   "outputs": [],
   "source": [
    "#set the dependent variables to 'y'\n",
    "y= df.pop('Target')\n"
   ]
  },
  {
   "cell_type": "code",
   "execution_count": null,
   "metadata": {
    "deletable": false,
    "editable": false,
    "nbgrader": {
     "checksum": "c3891e2d286a55e28deceec615be766f",
     "grade": true,
     "grade_id": "cell-341da5a3a53e6e74",
     "locked": true,
     "points": 1,
     "schema_version": 1,
     "solution": false
    }
   },
   "outputs": [],
   "source": []
  },
  {
   "cell_type": "markdown",
   "metadata": {
    "deletable": false,
    "editable": false,
    "id": "CK3j-Baa8pgs",
    "nbgrader": {
     "checksum": "8b1af0be211baf5d1b3357914d900200",
     "grade": false,
     "grade_id": "cell-07c0b7b3b038df06",
     "locked": true,
     "schema_version": 1,
     "solution": false
    }
   },
   "source": [
    "\n",
    "Before we normalize the numerics, let's split the data into an 80% training set and 20% test set (*why should we split **before** normalization?*)."
   ]
  },
  {
   "cell_type": "code",
   "execution_count": 11,
   "metadata": {
    "deletable": false,
    "editable": false,
    "id": "ZMzVgfUsmC_8",
    "nbgrader": {
     "checksum": "357272a7698b97fadd48aec5b89a2f75",
     "grade": false,
     "grade_id": "cell-a7dbb2b980ecd26c",
     "locked": true,
     "schema_version": 1,
     "solution": false
    }
   },
   "outputs": [],
   "source": [
    "from sklearn.model_selection import train_test_split"
   ]
  },
  {
   "cell_type": "code",
   "execution_count": 18,
   "metadata": {
    "deletable": false,
    "id": "pmk6ejGHmIr_",
    "nbgrader": {
     "checksum": "37412b1b505ddcffd1a62fe2e417c48d",
     "grade": false,
     "grade_id": "cell-64336120541e89ec",
     "locked": false,
     "schema_version": 1,
     "solution": true
    }
   },
   "outputs": [],
   "source": [
    "#split into train and test sets with the following naming conventions:\n",
    "# X_train, X_test, y_train and y_test\n",
    "#YOUR CODE HERE\n",
    "X_train, X_test, y_train, y_test= train_test_split(df, y, test_size=0.2, stratify=y)\n"
   ]
  },
  {
   "cell_type": "code",
   "execution_count": null,
   "metadata": {
    "deletable": false,
    "editable": false,
    "nbgrader": {
     "checksum": "5c1fcc60699f88c8531a9ba04c7def3e",
     "grade": true,
     "grade_id": "cell-360655f51c7d07d3",
     "locked": true,
     "points": 1,
     "schema_version": 1,
     "solution": false
    }
   },
   "outputs": [],
   "source": []
  },
  {
   "cell_type": "markdown",
   "metadata": {
    "deletable": false,
    "editable": false,
    "id": "UwrTlwA3NhuV",
    "nbgrader": {
     "checksum": "7568392a784c50f6387c8a00ba196e5a",
     "grade": false,
     "grade_id": "cell-32f2ee2e1314d551",
     "locked": true,
     "schema_version": 1,
     "solution": false
    }
   },
   "source": [
    "OK, let's calculate the mean and standard deviation of every numeric variable in the training set."
   ]
  },
  {
   "cell_type": "code",
   "execution_count": 21,
   "metadata": {
    "deletable": false,
    "id": "thKdv04AZfhz",
    "nbgrader": {
     "checksum": "2220f3eef508cd3629e0f83b9aa906af",
     "grade": false,
     "grade_id": "cell-826d19a7001820b4",
     "locked": false,
     "schema_version": 1,
     "solution": true
    }
   },
   "outputs": [],
   "source": [
    "means = means = X_train[numerics].mean()\n",
    "sd = X_train[numerics].std()"
   ]
  },
  {
   "cell_type": "code",
   "execution_count": null,
   "metadata": {
    "deletable": false,
    "editable": false,
    "nbgrader": {
     "checksum": "1b211044fe5986f6d40d30cc50f7fe26",
     "grade": true,
     "grade_id": "cell-12fc7dee1841ccca",
     "locked": true,
     "points": 1,
     "schema_version": 1,
     "solution": false
    }
   },
   "outputs": [],
   "source": []
  },
  {
   "cell_type": "markdown",
   "metadata": {
    "deletable": false,
    "editable": false,
    "id": "L1YP45i4Zfzx",
    "nbgrader": {
     "checksum": "8d18ba02216027f4be01a8cacad45f1d",
     "grade": false,
     "grade_id": "cell-c5a81c4551b342d2",
     "locked": true,
     "schema_version": 1,
     "solution": false
    }
   },
   "source": [
    "Let's normalize the train and test dataframes with these means and standard deviations."
   ]
  },
  {
   "cell_type": "code",
   "execution_count": 22,
   "metadata": {
    "deletable": false,
    "id": "LPtsJD6jZ5E4",
    "nbgrader": {
     "checksum": "8e54b96e95b2882ebc617e9fd9fd6d87",
     "grade": false,
     "grade_id": "cell-4cee7282770d42ca",
     "locked": false,
     "schema_version": 1,
     "solution": true
    }
   },
   "outputs": [],
   "source": [
    "# Normalize X_train\n",
    "# YOUR CODE HERE\n",
    "X_train[numerics]= (X_train[numerics] - means)/sd"
   ]
  },
  {
   "cell_type": "code",
   "execution_count": 23,
   "metadata": {
    "deletable": false,
    "id": "hqzdrYJbaHT8",
    "nbgrader": {
     "checksum": "cd42ad0706cdd10382d10aa1e42ec913",
     "grade": false,
     "grade_id": "cell-e70ddcbfa457ba58",
     "locked": false,
     "schema_version": 1,
     "solution": true
    }
   },
   "outputs": [],
   "source": [
    "# Normalize X_test\n",
    "# YOUR CODE HERE\n",
    "X_test[numerics]= (X_test[numerics] - means)/sd"
   ]
  },
  {
   "cell_type": "code",
   "execution_count": null,
   "metadata": {
    "deletable": false,
    "editable": false,
    "nbgrader": {
     "checksum": "4c13603a53e37d8a4f18062e56bdee1a",
     "grade": true,
     "grade_id": "cell-0d055326573f304a",
     "locked": true,
     "points": 2,
     "schema_version": 1,
     "solution": false
    }
   },
   "outputs": [],
   "source": []
  },
  {
   "cell_type": "code",
   "execution_count": 24,
   "metadata": {
    "colab": {
     "base_uri": "https://localhost:8080/",
     "height": 299
    },
    "deletable": false,
    "editable": false,
    "id": "y5jErgL5fycw",
    "nbgrader": {
     "checksum": "8f8453d10b137597a040fc145f0949d5",
     "grade": false,
     "grade_id": "cell-5e7ca98029e12a10",
     "locked": true,
     "schema_version": 1,
     "solution": false
    },
    "outputId": "0434fb02-65d6-40b7-d654-133ac758fc73"
   },
   "outputs": [
    {
     "data": {
      "text/html": [
       "<div>\n",
       "<style scoped>\n",
       "    .dataframe tbody tr th:only-of-type {\n",
       "        vertical-align: middle;\n",
       "    }\n",
       "\n",
       "    .dataframe tbody tr th {\n",
       "        vertical-align: top;\n",
       "    }\n",
       "\n",
       "    .dataframe thead th {\n",
       "        text-align: right;\n",
       "    }\n",
       "</style>\n",
       "<table border=\"1\" class=\"dataframe\">\n",
       "  <thead>\n",
       "    <tr style=\"text-align: right;\">\n",
       "      <th></th>\n",
       "      <th>0</th>\n",
       "      <th>1</th>\n",
       "      <th>2</th>\n",
       "      <th>3</th>\n",
       "      <th>4</th>\n",
       "      <th>5</th>\n",
       "      <th>6</th>\n",
       "      <th>7</th>\n",
       "      <th>8</th>\n",
       "      <th>9</th>\n",
       "      <th>...</th>\n",
       "      <th>130</th>\n",
       "      <th>131</th>\n",
       "      <th>132</th>\n",
       "      <th>133</th>\n",
       "      <th>134</th>\n",
       "      <th>135</th>\n",
       "      <th>136</th>\n",
       "      <th>137</th>\n",
       "      <th>138</th>\n",
       "      <th>139</th>\n",
       "    </tr>\n",
       "  </thead>\n",
       "  <tbody>\n",
       "    <tr>\n",
       "      <th>1548</th>\n",
       "      <td>-0.324223</td>\n",
       "      <td>0.017476</td>\n",
       "      <td>-0.239725</td>\n",
       "      <td>-0.626366</td>\n",
       "      <td>-0.773065</td>\n",
       "      <td>-1.021625</td>\n",
       "      <td>-0.903906</td>\n",
       "      <td>0.730560</td>\n",
       "      <td>1.046068</td>\n",
       "      <td>0.431201</td>\n",
       "      <td>...</td>\n",
       "      <td>0.136258</td>\n",
       "      <td>0.097814</td>\n",
       "      <td>0.074905</td>\n",
       "      <td>-0.099340</td>\n",
       "      <td>-0.121296</td>\n",
       "      <td>0.029998</td>\n",
       "      <td>0.105706</td>\n",
       "      <td>0.225045</td>\n",
       "      <td>0.180831</td>\n",
       "      <td>-0.334431</td>\n",
       "    </tr>\n",
       "    <tr>\n",
       "      <th>1699</th>\n",
       "      <td>0.257813</td>\n",
       "      <td>0.018389</td>\n",
       "      <td>-0.347417</td>\n",
       "      <td>-0.887938</td>\n",
       "      <td>-1.067469</td>\n",
       "      <td>-1.079334</td>\n",
       "      <td>-0.479473</td>\n",
       "      <td>0.235783</td>\n",
       "      <td>-0.096698</td>\n",
       "      <td>-0.076907</td>\n",
       "      <td>...</td>\n",
       "      <td>0.588783</td>\n",
       "      <td>0.573320</td>\n",
       "      <td>0.406906</td>\n",
       "      <td>0.285188</td>\n",
       "      <td>0.292034</td>\n",
       "      <td>0.461352</td>\n",
       "      <td>0.846450</td>\n",
       "      <td>0.762890</td>\n",
       "      <td>0.186995</td>\n",
       "      <td>-0.817382</td>\n",
       "    </tr>\n",
       "    <tr>\n",
       "      <th>964</th>\n",
       "      <td>-0.773805</td>\n",
       "      <td>-0.650748</td>\n",
       "      <td>-0.319481</td>\n",
       "      <td>-0.324290</td>\n",
       "      <td>-0.707770</td>\n",
       "      <td>-1.036366</td>\n",
       "      <td>-1.105949</td>\n",
       "      <td>-0.296229</td>\n",
       "      <td>-0.170099</td>\n",
       "      <td>-0.574328</td>\n",
       "      <td>...</td>\n",
       "      <td>1.287564</td>\n",
       "      <td>0.838607</td>\n",
       "      <td>0.541872</td>\n",
       "      <td>0.241415</td>\n",
       "      <td>0.015990</td>\n",
       "      <td>-0.122720</td>\n",
       "      <td>-0.204666</td>\n",
       "      <td>-0.343417</td>\n",
       "      <td>-0.111695</td>\n",
       "      <td>-0.205665</td>\n",
       "    </tr>\n",
       "    <tr>\n",
       "      <th>2342</th>\n",
       "      <td>-1.765650</td>\n",
       "      <td>-1.911780</td>\n",
       "      <td>-1.466928</td>\n",
       "      <td>-0.819012</td>\n",
       "      <td>0.091862</td>\n",
       "      <td>0.922947</td>\n",
       "      <td>1.075613</td>\n",
       "      <td>0.944488</td>\n",
       "      <td>1.409581</td>\n",
       "      <td>1.021341</td>\n",
       "      <td>...</td>\n",
       "      <td>1.082611</td>\n",
       "      <td>0.862686</td>\n",
       "      <td>0.884661</td>\n",
       "      <td>0.935989</td>\n",
       "      <td>0.949462</td>\n",
       "      <td>0.841522</td>\n",
       "      <td>0.843592</td>\n",
       "      <td>1.003270</td>\n",
       "      <td>1.033259</td>\n",
       "      <td>0.166492</td>\n",
       "    </tr>\n",
       "    <tr>\n",
       "      <th>1219</th>\n",
       "      <td>-0.266433</td>\n",
       "      <td>-0.501421</td>\n",
       "      <td>-0.802135</td>\n",
       "      <td>-1.046027</td>\n",
       "      <td>-0.579275</td>\n",
       "      <td>0.028564</td>\n",
       "      <td>0.906853</td>\n",
       "      <td>0.728782</td>\n",
       "      <td>1.324600</td>\n",
       "      <td>1.201311</td>\n",
       "      <td>...</td>\n",
       "      <td>1.173078</td>\n",
       "      <td>0.882227</td>\n",
       "      <td>0.500253</td>\n",
       "      <td>0.420613</td>\n",
       "      <td>0.333262</td>\n",
       "      <td>0.204160</td>\n",
       "      <td>0.251804</td>\n",
       "      <td>0.387979</td>\n",
       "      <td>0.333187</td>\n",
       "      <td>-0.825415</td>\n",
       "    </tr>\n",
       "  </tbody>\n",
       "</table>\n",
       "<p>5 rows × 140 columns</p>\n",
       "</div>"
      ],
      "text/plain": [
       "           0         1         2         3         4         5         6    \\\n",
       "1548 -0.324223  0.017476 -0.239725 -0.626366 -0.773065 -1.021625 -0.903906   \n",
       "1699  0.257813  0.018389 -0.347417 -0.887938 -1.067469 -1.079334 -0.479473   \n",
       "964  -0.773805 -0.650748 -0.319481 -0.324290 -0.707770 -1.036366 -1.105949   \n",
       "2342 -1.765650 -1.911780 -1.466928 -0.819012  0.091862  0.922947  1.075613   \n",
       "1219 -0.266433 -0.501421 -0.802135 -1.046027 -0.579275  0.028564  0.906853   \n",
       "\n",
       "           7         8         9    ...       130       131       132  \\\n",
       "1548  0.730560  1.046068  0.431201  ...  0.136258  0.097814  0.074905   \n",
       "1699  0.235783 -0.096698 -0.076907  ...  0.588783  0.573320  0.406906   \n",
       "964  -0.296229 -0.170099 -0.574328  ...  1.287564  0.838607  0.541872   \n",
       "2342  0.944488  1.409581  1.021341  ...  1.082611  0.862686  0.884661   \n",
       "1219  0.728782  1.324600  1.201311  ...  1.173078  0.882227  0.500253   \n",
       "\n",
       "           133       134       135       136       137       138       139  \n",
       "1548 -0.099340 -0.121296  0.029998  0.105706  0.225045  0.180831 -0.334431  \n",
       "1699  0.285188  0.292034  0.461352  0.846450  0.762890  0.186995 -0.817382  \n",
       "964   0.241415  0.015990 -0.122720 -0.204666 -0.343417 -0.111695 -0.205665  \n",
       "2342  0.935989  0.949462  0.841522  0.843592  1.003270  1.033259  0.166492  \n",
       "1219  0.420613  0.333262  0.204160  0.251804  0.387979  0.333187 -0.825415  \n",
       "\n",
       "[5 rows x 140 columns]"
      ]
     },
     "execution_count": 24,
     "metadata": {},
     "output_type": "execute_result"
    }
   ],
   "source": [
    "X_train.head()"
   ]
  },
  {
   "cell_type": "markdown",
   "metadata": {
    "deletable": false,
    "editable": false,
    "id": "jxB_UeNMN6Al",
    "nbgrader": {
     "checksum": "d62d63682346ecd3e8fd8cfd380a89f6",
     "grade": false,
     "grade_id": "cell-3f3e80abb9da9204",
     "locked": true,
     "schema_version": 1,
     "solution": false
    }
   },
   "source": [
    "The easiest way to feed data to Keras/Tensorflow is as Numpy arrays so we convert our two dataframes to Numpy arrays."
   ]
  },
  {
   "cell_type": "code",
   "execution_count": 25,
   "metadata": {
    "deletable": false,
    "id": "0ivSr2kzW6tY",
    "nbgrader": {
     "checksum": "05131f28aacc6550cb1ada3f3efc1f05",
     "grade": false,
     "grade_id": "cell-7aa678a451455707",
     "locked": false,
     "schema_version": 1,
     "solution": true
    }
   },
   "outputs": [],
   "source": [
    "# Convert X_train and X_test to Numpy arrays\n",
    "# YOUR CODE HERE\n",
    "X_train = X_train .to_numpy()\n",
    "X_test= X_test.to_numpy()"
   ]
  },
  {
   "cell_type": "code",
   "execution_count": 26,
   "metadata": {
    "deletable": false,
    "editable": false,
    "nbgrader": {
     "checksum": "050ed3417af5953e1ac554c12252786c",
     "grade": true,
     "grade_id": "cell-703441792eb8326b",
     "locked": true,
     "points": 1,
     "schema_version": 1,
     "solution": false
    }
   },
   "outputs": [],
   "source": [
    "# If this box fails on a second attempt try recreating X_train and X_test and running the boxes before this. "
   ]
  },
  {
   "cell_type": "code",
   "execution_count": 27,
   "metadata": {
    "colab": {
     "base_uri": "https://localhost:8080/"
    },
    "deletable": false,
    "editable": false,
    "id": "YcHmVPMIaS-E",
    "nbgrader": {
     "checksum": "943b687e5b4e2b94e41f40ee7fe07cba",
     "grade": false,
     "grade_id": "cell-108a8163df3bebf8",
     "locked": true,
     "schema_version": 1,
     "solution": false
    },
    "outputId": "01cff1a0-fdca-4508-f1cc-e5520beedf6a"
   },
   "outputs": [
    {
     "data": {
      "text/plain": [
       "((3998, 140), (3998,))"
      ]
     },
     "execution_count": 27,
     "metadata": {},
     "output_type": "execute_result"
    }
   ],
   "source": [
    "X_train.shape, y_train.shape"
   ]
  },
  {
   "cell_type": "code",
   "execution_count": 28,
   "metadata": {
    "colab": {
     "base_uri": "https://localhost:8080/"
    },
    "deletable": false,
    "editable": false,
    "id": "1uYWRkHIa3mL",
    "nbgrader": {
     "checksum": "9a263a39f4e69c1a65904626c7f6aaf4",
     "grade": false,
     "grade_id": "cell-6246e110b0dce280",
     "locked": true,
     "schema_version": 1,
     "solution": false
    },
    "outputId": "953200a7-cc29-416e-95dd-36e795bb8515"
   },
   "outputs": [
    {
     "data": {
      "text/plain": [
       "((1000, 140), (1000,))"
      ]
     },
     "execution_count": 28,
     "metadata": {},
     "output_type": "execute_result"
    }
   ],
   "source": [
    "X_test.shape, y_test.shape\n"
   ]
  },
  {
   "cell_type": "markdown",
   "metadata": {
    "deletable": false,
    "editable": false,
    "id": "p0wrFZ9o8pgv",
    "nbgrader": {
     "checksum": "7c8ba2d1cff6be755b607096af203ae3",
     "grade": false,
     "grade_id": "cell-d04e171749eb65ff",
     "locked": true,
     "schema_version": 1,
     "solution": false
    }
   },
   "source": [
    "## Build a model\n"
   ]
  },
  {
   "cell_type": "markdown",
   "metadata": {
    "deletable": false,
    "editable": false,
    "id": "Gh4MNTIjreyL",
    "nbgrader": {
     "checksum": "beb9cabb9b9a11c8d3d61482427ee069",
     "grade": false,
     "grade_id": "cell-f10f6bbc337e9308",
     "locked": true,
     "schema_version": 1,
     "solution": false
    }
   },
   "source": [
    "\n",
    "### Define model in Keras\n",
    "\n",
    "Creating an NN  is usually just a few lines of Keras code. \n",
    "\n",
    "* We will start with a single hidden layer. \n",
    "* Since this is a *binary classification problem*, we will use a sigmoid activation in the output layer."
   ]
  },
  {
   "cell_type": "markdown",
   "metadata": {
    "deletable": false,
    "editable": false,
    "id": "nSSAnvqGLt8I",
    "nbgrader": {
     "checksum": "dca611b3314f36c24cc8a041bde9d32c",
     "grade": false,
     "grade_id": "cell-cb91247c9fb6c367",
     "locked": true,
     "schema_version": 1,
     "solution": false
    }
   },
   "source": [
    "![image.png](data:image/png;base64,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)"
   ]
  },
  {
   "cell_type": "code",
   "execution_count": 32,
   "metadata": {
    "deletable": false,
    "id": "69p4o0lR8pgv",
    "nbgrader": {
     "checksum": "97956b4db741d360ae17dea1beb85808",
     "grade": false,
     "grade_id": "cell-3509c799e5778484",
     "locked": false,
     "schema_version": 1,
     "solution": true
    }
   },
   "outputs": [],
   "source": [
    "#get the number of columns and assign it to \"num_columns\"\n",
    "\n",
    "# YOUR CODE HERE\n",
    "num_columns = X_train.shape[1]\n",
    "\n",
    "# Define the input layer. assign it to \"input\"\n",
    "\n",
    "input = keras.Input(shape=num_columns)\n",
    "\n",
    "# Feed the input vector to the hidden layer. Call it \"h\"\n",
    "# YOUR CODE HERE\n",
    "h = keras.layers.Dense(16, activation=\"relu\", name=\"Hidden\")(input)\n",
    "\n",
    "# Feed the output of the hidden layer to the output layer. Call it \"output\"\n",
    "# YOUR CODE HERE\n",
    "output = keras.layers.Dense(1, activation=\"sigmoid\", name=\"Output\")(h)\n",
    "\n",
    "# tell Keras that this (input,output) pair is your model. Call it \"model\"\n",
    "# YOUR CODE HERE\n",
    "model = keras.Model(input, output)"
   ]
  },
  {
   "cell_type": "code",
   "execution_count": null,
   "metadata": {
    "deletable": false,
    "editable": false,
    "nbgrader": {
     "checksum": "f075aff38a84b8ab0c71920b2f977dc6",
     "grade": true,
     "grade_id": "cell-52afe1a81ac3f5cc",
     "locked": true,
     "points": 2,
     "schema_version": 1,
     "solution": false
    }
   },
   "outputs": [],
   "source": []
  },
  {
   "cell_type": "markdown",
   "metadata": {
    "deletable": false,
    "editable": false,
    "id": "coJALvJfPZPl",
    "nbgrader": {
     "checksum": "a2381685872f51c7f2ee343acb4fa3a0",
     "grade": false,
     "grade_id": "cell-2b58104d67665364",
     "locked": true,
     "schema_version": 1,
     "solution": false
    }
   },
   "source": [
    "The `model.summary()` command is a good way to get a quick overview of what you have defined."
   ]
  },
  {
   "cell_type": "code",
   "execution_count": 33,
   "metadata": {
    "colab": {
     "base_uri": "https://localhost:8080/"
    },
    "deletable": false,
    "editable": false,
    "id": "tUL_yaaIbGVN",
    "nbgrader": {
     "checksum": "1ad81e9193c14b85e33827963ffdf302",
     "grade": false,
     "grade_id": "cell-e044252ed07a7535",
     "locked": true,
     "schema_version": 1,
     "solution": false
    },
    "outputId": "436ae538-c3d9-4160-a4ed-a519fc3f6652"
   },
   "outputs": [
    {
     "name": "stdout",
     "output_type": "stream",
     "text": [
      "Model: \"model\"\n",
      "_________________________________________________________________\n",
      "Layer (type)                 Output Shape              Param #   \n",
      "=================================================================\n",
      "input_4 (InputLayer)         [(None, 140)]             0         \n",
      "_________________________________________________________________\n",
      "Hidden (Dense)               (None, 16)                2256      \n",
      "_________________________________________________________________\n",
      "Output (Dense)               (None, 1)                 17        \n",
      "=================================================================\n",
      "Total params: 2,273\n",
      "Trainable params: 2,273\n",
      "Non-trainable params: 0\n",
      "_________________________________________________________________\n"
     ]
    }
   ],
   "source": [
    "model.summary()"
   ]
  },
  {
   "cell_type": "markdown",
   "metadata": {
    "deletable": false,
    "editable": false,
    "id": "lfsdY6h5QBbV",
    "nbgrader": {
     "checksum": "9d999edd7d0c10a2d8f6252a23e2a0d1",
     "grade": false,
     "grade_id": "cell-5dbb86561f7be27e",
     "locked": true,
     "schema_version": 1,
     "solution": false
    }
   },
   "source": [
    "We can \"visualize\" the network graphically as well using Keras' `plot_model` function."
   ]
  },
  {
   "cell_type": "code",
   "execution_count": 34,
   "metadata": {
    "colab": {
     "base_uri": "https://localhost:8080/",
     "height": 312
    },
    "deletable": false,
    "editable": false,
    "id": "uHfYbbKD8pgv",
    "nbgrader": {
     "checksum": "6ec6400699fac821b3ca6d75d5e08086",
     "grade": false,
     "grade_id": "cell-18fe6f93c9f7181e",
     "locked": true,
     "schema_version": 1,
     "solution": false
    },
    "outputId": "cffc7e4e-7d22-45f3-98ff-126bab5fb6ee"
   },
   "outputs": [
    {
     "name": "stdout",
     "output_type": "stream",
     "text": [
      "('You must install pydot (`pip install pydot`) and install graphviz (see instructions at https://graphviz.gitlab.io/download/) ', 'for plot_model/model_to_dot to work.')\n"
     ]
    }
   ],
   "source": [
    "keras.utils.plot_model(model, show_shapes=True)"
   ]
  },
  {
   "cell_type": "markdown",
   "metadata": {
    "deletable": false,
    "editable": false,
    "id": "Igf5bWCZQG8E",
    "nbgrader": {
     "checksum": "44eec518084fc93027d3932105156502",
     "grade": false,
     "grade_id": "cell-78347f173c26d16a",
     "locked": true,
     "schema_version": 1,
     "solution": false
    }
   },
   "source": [
    "### Set optimization parameters"
   ]
  },
  {
   "cell_type": "markdown",
   "metadata": {
    "deletable": false,
    "editable": false,
    "id": "vaNfhfuAQIkZ",
    "nbgrader": {
     "checksum": "9c0539accf2cea4d819b03086862736f",
     "grade": false,
     "grade_id": "cell-5697de9208eba7d7",
     "locked": true,
     "schema_version": 1,
     "solution": false
    }
   },
   "source": [
    "Now that the model is defined, we need to tell Keras three things:\n",
    "\n",
    "*   What **loss function** to use - Since our output variable is binary, we will select the `binary_crossentropy` loss function. \n",
    "*   Which **optimizer** to use - we will use a 'flavor' of SGD called **Adam** which is an excellent default choice \n",
    "*   What **metrics** you want Keras to report out - in classification problems like this one, Accuracy is commonly used."
   ]
  },
  {
   "cell_type": "code",
   "execution_count": 35,
   "metadata": {
    "deletable": false,
    "id": "RiJgZpm2PxDi",
    "nbgrader": {
     "checksum": "5f3331586c0ec137ab09992a5f15614b",
     "grade": false,
     "grade_id": "cell-12faa29258f2797b",
     "locked": false,
     "schema_version": 1,
     "solution": true
    }
   },
   "outputs": [],
   "source": [
    "# YOUR CODE HERE\n",
    "model.compile(optimizer=\"adam\",\n",
    "              loss=\"binary_crossentropy\",\n",
    "              metrics=[\"accuracy\"])"
   ]
  },
  {
   "cell_type": "markdown",
   "metadata": {
    "deletable": false,
    "editable": false,
    "id": "8_gDdeqiQUeN",
    "nbgrader": {
     "checksum": "de04e4d49d89cf9ee771768d4d4431c9",
     "grade": false,
     "grade_id": "cell-57f5265e3702be7d",
     "locked": true,
     "schema_version": 1,
     "solution": false
    }
   },
   "source": [
    "## Train the model\n",
    "\n",
    "To kickoff training, we have to decide on three things:\n",
    "* The *batch size* - 32 is a good default\n",
    "* The number of *epochs* i.e., how many passes through the training data. Start by setting this to 100, but you can experiment with different values.\n",
    "* Whether we want to use a validation set. This will be useful for overfitting detection and regularization via early stopping so we will ask Keras to automatically use 20% of the data points as a validation set"
   ]
  },
  {
   "cell_type": "markdown",
   "metadata": {
    "deletable": false,
    "editable": false,
    "id": "wPZFylPP8pgw",
    "nbgrader": {
     "checksum": "f97e33448e1ab3c7dfbef70dd1fd5959",
     "grade": false,
     "grade_id": "cell-d46e37b810fd2c12",
     "locked": true,
     "schema_version": 1,
     "solution": false
    }
   },
   "source": [
    "OK, let's train the model using the `model.fit` function!"
   ]
  },
  {
   "cell_type": "code",
   "execution_count": 36,
   "metadata": {
    "colab": {
     "base_uri": "https://localhost:8080/"
    },
    "deletable": false,
    "id": "mo71UEBf8pgw",
    "nbgrader": {
     "checksum": "f84ca99b824957cf153e62d79b73e75a",
     "grade": false,
     "grade_id": "cell-4cb694c58ad82adf",
     "locked": false,
     "schema_version": 1,
     "solution": true
    },
    "outputId": "f499d4a4-0904-4d3b-bbd1-c0fb02248dd5"
   },
   "outputs": [
    {
     "name": "stdout",
     "output_type": "stream",
     "text": [
      "Epoch 1/300\n",
      "100/100 [==============================] - 1s 4ms/step - loss: 0.1391 - accuracy: 0.9612 - val_loss: 0.0620 - val_accuracy: 0.9837\n",
      "Epoch 2/300\n",
      "100/100 [==============================] - 0s 2ms/step - loss: 0.0547 - accuracy: 0.9837 - val_loss: 0.0401 - val_accuracy: 0.9837\n",
      "Epoch 3/300\n",
      "100/100 [==============================] - 0s 2ms/step - loss: 0.0398 - accuracy: 0.9894 - val_loss: 0.0302 - val_accuracy: 0.9862\n",
      "Epoch 4/300\n",
      "100/100 [==============================] - 0s 2ms/step - loss: 0.0339 - accuracy: 0.9909 - val_loss: 0.0244 - val_accuracy: 0.9912\n",
      "Epoch 5/300\n",
      "100/100 [==============================] - 0s 2ms/step - loss: 0.0281 - accuracy: 0.9931 - val_loss: 0.0237 - val_accuracy: 0.9912\n",
      "Epoch 6/300\n",
      "100/100 [==============================] - 0s 2ms/step - loss: 0.0253 - accuracy: 0.9941 - val_loss: 0.0212 - val_accuracy: 0.9925\n",
      "Epoch 7/300\n",
      "100/100 [==============================] - 0s 2ms/step - loss: 0.0234 - accuracy: 0.9934 - val_loss: 0.0196 - val_accuracy: 0.9937\n",
      "Epoch 8/300\n",
      "100/100 [==============================] - 0s 2ms/step - loss: 0.0216 - accuracy: 0.9944 - val_loss: 0.0197 - val_accuracy: 0.9937\n",
      "Epoch 9/300\n",
      "100/100 [==============================] - 0s 2ms/step - loss: 0.0202 - accuracy: 0.9947 - val_loss: 0.0205 - val_accuracy: 0.9937\n",
      "Epoch 10/300\n",
      "100/100 [==============================] - 0s 2ms/step - loss: 0.0192 - accuracy: 0.9956 - val_loss: 0.0200 - val_accuracy: 0.9912\n",
      "Epoch 11/300\n",
      "100/100 [==============================] - 0s 2ms/step - loss: 0.0186 - accuracy: 0.9962 - val_loss: 0.0209 - val_accuracy: 0.9900\n",
      "Epoch 12/300\n",
      "100/100 [==============================] - 0s 2ms/step - loss: 0.0171 - accuracy: 0.9966 - val_loss: 0.0198 - val_accuracy: 0.9912\n",
      "Epoch 13/300\n",
      "100/100 [==============================] - 0s 2ms/step - loss: 0.0162 - accuracy: 0.9966 - val_loss: 0.0224 - val_accuracy: 0.9912\n",
      "Epoch 14/300\n",
      "100/100 [==============================] - 0s 2ms/step - loss: 0.0160 - accuracy: 0.9962 - val_loss: 0.0221 - val_accuracy: 0.9900\n",
      "Epoch 15/300\n",
      "100/100 [==============================] - 0s 2ms/step - loss: 0.0150 - accuracy: 0.9956 - val_loss: 0.0227 - val_accuracy: 0.9912\n",
      "Epoch 16/300\n",
      "100/100 [==============================] - 0s 2ms/step - loss: 0.0148 - accuracy: 0.9962 - val_loss: 0.0233 - val_accuracy: 0.9900\n",
      "Epoch 17/300\n",
      "100/100 [==============================] - 0s 2ms/step - loss: 0.0139 - accuracy: 0.9969 - val_loss: 0.0227 - val_accuracy: 0.9912\n",
      "Epoch 18/300\n",
      "100/100 [==============================] - 0s 2ms/step - loss: 0.0135 - accuracy: 0.9959 - val_loss: 0.0222 - val_accuracy: 0.9925\n",
      "Epoch 19/300\n",
      "100/100 [==============================] - 0s 2ms/step - loss: 0.0134 - accuracy: 0.9966 - val_loss: 0.0224 - val_accuracy: 0.9912\n",
      "Epoch 20/300\n",
      "100/100 [==============================] - 0s 2ms/step - loss: 0.0127 - accuracy: 0.9972 - val_loss: 0.0246 - val_accuracy: 0.9900\n",
      "Epoch 21/300\n",
      "100/100 [==============================] - 0s 2ms/step - loss: 0.0121 - accuracy: 0.9972 - val_loss: 0.0248 - val_accuracy: 0.9912\n",
      "Epoch 22/300\n",
      "100/100 [==============================] - 0s 2ms/step - loss: 0.0123 - accuracy: 0.9959 - val_loss: 0.0268 - val_accuracy: 0.9900\n",
      "Epoch 23/300\n",
      "100/100 [==============================] - 0s 2ms/step - loss: 0.0116 - accuracy: 0.9972 - val_loss: 0.0254 - val_accuracy: 0.9925\n",
      "Epoch 24/300\n",
      "100/100 [==============================] - 0s 2ms/step - loss: 0.0113 - accuracy: 0.9966 - val_loss: 0.0244 - val_accuracy: 0.9912\n",
      "Epoch 25/300\n",
      "100/100 [==============================] - 0s 2ms/step - loss: 0.0110 - accuracy: 0.9978 - val_loss: 0.0251 - val_accuracy: 0.9912\n",
      "Epoch 26/300\n",
      "100/100 [==============================] - 0s 2ms/step - loss: 0.0107 - accuracy: 0.9969 - val_loss: 0.0263 - val_accuracy: 0.9912\n",
      "Epoch 27/300\n",
      "100/100 [==============================] - 0s 2ms/step - loss: 0.0105 - accuracy: 0.9975 - val_loss: 0.0264 - val_accuracy: 0.9912\n",
      "Epoch 28/300\n",
      "100/100 [==============================] - 0s 2ms/step - loss: 0.0103 - accuracy: 0.9972 - val_loss: 0.0279 - val_accuracy: 0.9912\n",
      "Epoch 29/300\n",
      "100/100 [==============================] - 0s 2ms/step - loss: 0.0098 - accuracy: 0.9969 - val_loss: 0.0290 - val_accuracy: 0.9912\n",
      "Epoch 30/300\n",
      "100/100 [==============================] - 0s 2ms/step - loss: 0.0099 - accuracy: 0.9972 - val_loss: 0.0280 - val_accuracy: 0.9912\n",
      "Epoch 31/300\n",
      "100/100 [==============================] - 0s 2ms/step - loss: 0.0096 - accuracy: 0.9972 - val_loss: 0.0293 - val_accuracy: 0.9912\n",
      "Epoch 32/300\n",
      "100/100 [==============================] - 0s 2ms/step - loss: 0.0093 - accuracy: 0.9972 - val_loss: 0.0311 - val_accuracy: 0.9925\n",
      "Epoch 33/300\n",
      "100/100 [==============================] - 0s 2ms/step - loss: 0.0087 - accuracy: 0.9978 - val_loss: 0.0308 - val_accuracy: 0.9925\n",
      "Epoch 34/300\n",
      "100/100 [==============================] - 0s 2ms/step - loss: 0.0087 - accuracy: 0.9975 - val_loss: 0.0300 - val_accuracy: 0.9925\n",
      "Epoch 35/300\n",
      "100/100 [==============================] - 0s 2ms/step - loss: 0.0089 - accuracy: 0.9978 - val_loss: 0.0321 - val_accuracy: 0.9912\n",
      "Epoch 36/300\n",
      "100/100 [==============================] - 0s 2ms/step - loss: 0.0088 - accuracy: 0.9972 - val_loss: 0.0315 - val_accuracy: 0.9925\n",
      "Epoch 37/300\n",
      "100/100 [==============================] - 0s 2ms/step - loss: 0.0078 - accuracy: 0.9981 - val_loss: 0.0374 - val_accuracy: 0.9925\n",
      "Epoch 38/300\n",
      "100/100 [==============================] - 0s 2ms/step - loss: 0.0085 - accuracy: 0.9978 - val_loss: 0.0361 - val_accuracy: 0.9925\n",
      "Epoch 39/300\n",
      "100/100 [==============================] - 0s 2ms/step - loss: 0.0084 - accuracy: 0.9975 - val_loss: 0.0330 - val_accuracy: 0.9912\n",
      "Epoch 40/300\n",
      "100/100 [==============================] - 0s 2ms/step - loss: 0.0076 - accuracy: 0.9981 - val_loss: 0.0319 - val_accuracy: 0.9912\n",
      "Epoch 41/300\n",
      "100/100 [==============================] - 0s 2ms/step - loss: 0.0082 - accuracy: 0.9984 - val_loss: 0.0342 - val_accuracy: 0.9925\n",
      "Epoch 42/300\n",
      "100/100 [==============================] - 0s 2ms/step - loss: 0.0074 - accuracy: 0.9981 - val_loss: 0.0333 - val_accuracy: 0.9937\n",
      "Epoch 43/300\n",
      "100/100 [==============================] - 0s 2ms/step - loss: 0.0070 - accuracy: 0.9981 - val_loss: 0.0377 - val_accuracy: 0.9912\n",
      "Epoch 44/300\n",
      "100/100 [==============================] - 0s 2ms/step - loss: 0.0067 - accuracy: 0.9984 - val_loss: 0.0356 - val_accuracy: 0.9912\n",
      "Epoch 45/300\n",
      "100/100 [==============================] - 0s 2ms/step - loss: 0.0065 - accuracy: 0.9981 - val_loss: 0.0384 - val_accuracy: 0.9912\n",
      "Epoch 46/300\n",
      "100/100 [==============================] - 0s 2ms/step - loss: 0.0065 - accuracy: 0.9984 - val_loss: 0.0388 - val_accuracy: 0.9925\n",
      "Epoch 47/300\n",
      "100/100 [==============================] - 0s 2ms/step - loss: 0.0065 - accuracy: 0.9984 - val_loss: 0.0378 - val_accuracy: 0.9912\n",
      "Epoch 48/300\n",
      "100/100 [==============================] - 0s 2ms/step - loss: 0.0063 - accuracy: 0.9978 - val_loss: 0.0381 - val_accuracy: 0.9912\n",
      "Epoch 49/300\n",
      "100/100 [==============================] - 0s 3ms/step - loss: 0.0059 - accuracy: 0.9987 - val_loss: 0.0393 - val_accuracy: 0.9912\n",
      "Epoch 50/300\n",
      "100/100 [==============================] - 0s 3ms/step - loss: 0.0055 - accuracy: 0.9987 - val_loss: 0.0421 - val_accuracy: 0.9900\n",
      "Epoch 51/300\n",
      "100/100 [==============================] - 0s 4ms/step - loss: 0.0058 - accuracy: 0.9984 - val_loss: 0.0424 - val_accuracy: 0.9900\n",
      "Epoch 52/300\n",
      "100/100 [==============================] - 0s 3ms/step - loss: 0.0054 - accuracy: 0.9991 - val_loss: 0.0404 - val_accuracy: 0.9912\n",
      "Epoch 53/300\n",
      "100/100 [==============================] - 0s 2ms/step - loss: 0.0053 - accuracy: 0.9987 - val_loss: 0.0430 - val_accuracy: 0.9900\n",
      "Epoch 54/300\n",
      "100/100 [==============================] - 0s 2ms/step - loss: 0.0056 - accuracy: 0.9984 - val_loss: 0.0349 - val_accuracy: 0.9900\n",
      "Epoch 55/300\n",
      "100/100 [==============================] - 0s 2ms/step - loss: 0.0057 - accuracy: 0.9984 - val_loss: 0.0459 - val_accuracy: 0.9887\n",
      "Epoch 56/300\n",
      "100/100 [==============================] - 0s 2ms/step - loss: 0.0053 - accuracy: 0.9984 - val_loss: 0.0425 - val_accuracy: 0.9912\n",
      "Epoch 57/300\n",
      "100/100 [==============================] - 0s 2ms/step - loss: 0.0047 - accuracy: 0.9987 - val_loss: 0.0408 - val_accuracy: 0.9912\n"
     ]
    },
    {
     "name": "stdout",
     "output_type": "stream",
     "text": [
      "Epoch 58/300\n",
      "100/100 [==============================] - 0s 2ms/step - loss: 0.0046 - accuracy: 0.9987 - val_loss: 0.0455 - val_accuracy: 0.9912\n",
      "Epoch 59/300\n",
      "100/100 [==============================] - 0s 2ms/step - loss: 0.0049 - accuracy: 0.9984 - val_loss: 0.0468 - val_accuracy: 0.9900\n",
      "Epoch 60/300\n",
      "100/100 [==============================] - 0s 2ms/step - loss: 0.0042 - accuracy: 0.9987 - val_loss: 0.0442 - val_accuracy: 0.9900\n",
      "Epoch 61/300\n",
      "100/100 [==============================] - 0s 2ms/step - loss: 0.0050 - accuracy: 0.9981 - val_loss: 0.0428 - val_accuracy: 0.9900\n",
      "Epoch 62/300\n",
      "100/100 [==============================] - 0s 2ms/step - loss: 0.0048 - accuracy: 0.9987 - val_loss: 0.0589 - val_accuracy: 0.9900\n",
      "Epoch 63/300\n",
      "100/100 [==============================] - 0s 2ms/step - loss: 0.0068 - accuracy: 0.9978 - val_loss: 0.0332 - val_accuracy: 0.9912\n",
      "Epoch 64/300\n",
      "100/100 [==============================] - 0s 2ms/step - loss: 0.0044 - accuracy: 0.9991 - val_loss: 0.0447 - val_accuracy: 0.9887\n",
      "Epoch 65/300\n",
      "100/100 [==============================] - 0s 2ms/step - loss: 0.0037 - accuracy: 0.9991 - val_loss: 0.0474 - val_accuracy: 0.9900\n",
      "Epoch 66/300\n",
      "100/100 [==============================] - 0s 2ms/step - loss: 0.0037 - accuracy: 0.9991 - val_loss: 0.0447 - val_accuracy: 0.9900\n",
      "Epoch 67/300\n",
      "100/100 [==============================] - 0s 2ms/step - loss: 0.0036 - accuracy: 0.9987 - val_loss: 0.0475 - val_accuracy: 0.9887\n",
      "Epoch 68/300\n",
      "100/100 [==============================] - 0s 2ms/step - loss: 0.0034 - accuracy: 0.9991 - val_loss: 0.0469 - val_accuracy: 0.9887\n",
      "Epoch 69/300\n",
      "100/100 [==============================] - 0s 2ms/step - loss: 0.0032 - accuracy: 0.9991 - val_loss: 0.0469 - val_accuracy: 0.9900\n",
      "Epoch 70/300\n",
      "100/100 [==============================] - 0s 2ms/step - loss: 0.0033 - accuracy: 0.9991 - val_loss: 0.0502 - val_accuracy: 0.9887\n",
      "Epoch 71/300\n",
      "100/100 [==============================] - 0s 2ms/step - loss: 0.0030 - accuracy: 0.9991 - val_loss: 0.0487 - val_accuracy: 0.9887\n",
      "Epoch 72/300\n",
      "100/100 [==============================] - 0s 2ms/step - loss: 0.0031 - accuracy: 0.9991 - val_loss: 0.0525 - val_accuracy: 0.9900\n",
      "Epoch 73/300\n",
      "100/100 [==============================] - 0s 2ms/step - loss: 0.0030 - accuracy: 0.9991 - val_loss: 0.0517 - val_accuracy: 0.9900\n",
      "Epoch 74/300\n",
      "100/100 [==============================] - 0s 2ms/step - loss: 0.0027 - accuracy: 0.9991 - val_loss: 0.0513 - val_accuracy: 0.9887\n",
      "Epoch 75/300\n",
      "100/100 [==============================] - 0s 2ms/step - loss: 0.0029 - accuracy: 0.9991 - val_loss: 0.0583 - val_accuracy: 0.9887\n",
      "Epoch 76/300\n",
      "100/100 [==============================] - 0s 2ms/step - loss: 0.0031 - accuracy: 0.9987 - val_loss: 0.0553 - val_accuracy: 0.9887\n",
      "Epoch 77/300\n",
      "100/100 [==============================] - 0s 2ms/step - loss: 0.0026 - accuracy: 0.9991 - val_loss: 0.0548 - val_accuracy: 0.9887\n",
      "Epoch 78/300\n",
      "100/100 [==============================] - 0s 2ms/step - loss: 0.0024 - accuracy: 0.9991 - val_loss: 0.0508 - val_accuracy: 0.9887\n",
      "Epoch 79/300\n",
      "100/100 [==============================] - 0s 2ms/step - loss: 0.0023 - accuracy: 0.9991 - val_loss: 0.0550 - val_accuracy: 0.9887\n",
      "Epoch 80/300\n",
      "100/100 [==============================] - 0s 2ms/step - loss: 0.0027 - accuracy: 0.9991 - val_loss: 0.0536 - val_accuracy: 0.9887\n",
      "Epoch 81/300\n",
      "100/100 [==============================] - 0s 2ms/step - loss: 0.0023 - accuracy: 0.9991 - val_loss: 0.0570 - val_accuracy: 0.9887\n",
      "Epoch 82/300\n",
      "100/100 [==============================] - 0s 2ms/step - loss: 0.0028 - accuracy: 0.9987 - val_loss: 0.0524 - val_accuracy: 0.9887\n",
      "Epoch 83/300\n",
      "100/100 [==============================] - 0s 2ms/step - loss: 0.0025 - accuracy: 0.9987 - val_loss: 0.0504 - val_accuracy: 0.9887\n",
      "Epoch 84/300\n",
      "100/100 [==============================] - 0s 2ms/step - loss: 0.0021 - accuracy: 0.9991 - val_loss: 0.0590 - val_accuracy: 0.9887\n",
      "Epoch 85/300\n",
      "100/100 [==============================] - 0s 2ms/step - loss: 0.0018 - accuracy: 0.9991 - val_loss: 0.0516 - val_accuracy: 0.9887\n",
      "Epoch 86/300\n",
      "100/100 [==============================] - 0s 2ms/step - loss: 0.0017 - accuracy: 0.9994 - val_loss: 0.0631 - val_accuracy: 0.9887\n",
      "Epoch 87/300\n",
      "100/100 [==============================] - 0s 2ms/step - loss: 0.0017 - accuracy: 0.9994 - val_loss: 0.0585 - val_accuracy: 0.9887\n",
      "Epoch 88/300\n",
      "100/100 [==============================] - 0s 2ms/step - loss: 0.0015 - accuracy: 0.9991 - val_loss: 0.0574 - val_accuracy: 0.9887\n",
      "Epoch 89/300\n",
      "100/100 [==============================] - 0s 2ms/step - loss: 0.0017 - accuracy: 0.9991 - val_loss: 0.0537 - val_accuracy: 0.9887\n",
      "Epoch 90/300\n",
      "100/100 [==============================] - 0s 2ms/step - loss: 0.0014 - accuracy: 0.9997 - val_loss: 0.0532 - val_accuracy: 0.9912\n",
      "Epoch 91/300\n",
      "100/100 [==============================] - 0s 2ms/step - loss: 0.0016 - accuracy: 0.9997 - val_loss: 0.0517 - val_accuracy: 0.9887\n",
      "Epoch 92/300\n",
      "100/100 [==============================] - 0s 2ms/step - loss: 0.0013 - accuracy: 0.9997 - val_loss: 0.0586 - val_accuracy: 0.9887\n",
      "Epoch 93/300\n",
      "100/100 [==============================] - 0s 2ms/step - loss: 0.0016 - accuracy: 0.9991 - val_loss: 0.0559 - val_accuracy: 0.9887\n",
      "Epoch 94/300\n",
      "100/100 [==============================] - 0s 2ms/step - loss: 0.0015 - accuracy: 0.9997 - val_loss: 0.0624 - val_accuracy: 0.9887\n",
      "Epoch 95/300\n",
      "100/100 [==============================] - 0s 2ms/step - loss: 0.0012 - accuracy: 0.9994 - val_loss: 0.0632 - val_accuracy: 0.9887\n",
      "Epoch 96/300\n",
      "100/100 [==============================] - 0s 2ms/step - loss: 0.0011 - accuracy: 0.9994 - val_loss: 0.0635 - val_accuracy: 0.9887\n",
      "Epoch 97/300\n",
      "100/100 [==============================] - 0s 2ms/step - loss: 0.0012 - accuracy: 0.9997 - val_loss: 0.0622 - val_accuracy: 0.9887\n",
      "Epoch 98/300\n",
      "100/100 [==============================] - 0s 2ms/step - loss: 0.0011 - accuracy: 0.9997 - val_loss: 0.0627 - val_accuracy: 0.9887\n",
      "Epoch 99/300\n",
      "100/100 [==============================] - 0s 2ms/step - loss: 0.0012 - accuracy: 1.0000 - val_loss: 0.0644 - val_accuracy: 0.9887\n",
      "Epoch 100/300\n",
      "100/100 [==============================] - 0s 2ms/step - loss: 0.0011 - accuracy: 1.0000 - val_loss: 0.0637 - val_accuracy: 0.9887\n",
      "Epoch 101/300\n",
      "100/100 [==============================] - 0s 2ms/step - loss: 9.5699e-04 - accuracy: 0.9997 - val_loss: 0.0640 - val_accuracy: 0.9887\n",
      "Epoch 102/300\n",
      "100/100 [==============================] - 0s 2ms/step - loss: 8.9645e-04 - accuracy: 1.0000 - val_loss: 0.0662 - val_accuracy: 0.9887\n",
      "Epoch 103/300\n",
      "100/100 [==============================] - 0s 2ms/step - loss: 0.0010 - accuracy: 0.9997 - val_loss: 0.0684 - val_accuracy: 0.9887\n",
      "Epoch 104/300\n",
      "100/100 [==============================] - 0s 2ms/step - loss: 0.0010 - accuracy: 0.9997 - val_loss: 0.0658 - val_accuracy: 0.9887\n",
      "Epoch 105/300\n",
      "100/100 [==============================] - 0s 2ms/step - loss: 8.2014e-04 - accuracy: 1.0000 - val_loss: 0.0653 - val_accuracy: 0.9887\n",
      "Epoch 106/300\n",
      "100/100 [==============================] - 0s 2ms/step - loss: 8.3849e-04 - accuracy: 1.0000 - val_loss: 0.0652 - val_accuracy: 0.9887\n",
      "Epoch 107/300\n",
      "100/100 [==============================] - 0s 2ms/step - loss: 7.6131e-04 - accuracy: 1.0000 - val_loss: 0.0659 - val_accuracy: 0.9887\n",
      "Epoch 108/300\n",
      "100/100 [==============================] - 0s 2ms/step - loss: 7.4207e-04 - accuracy: 1.0000 - val_loss: 0.0646 - val_accuracy: 0.9887\n",
      "Epoch 109/300\n",
      "100/100 [==============================] - 0s 2ms/step - loss: 8.8180e-04 - accuracy: 1.0000 - val_loss: 0.0680 - val_accuracy: 0.9887\n",
      "Epoch 110/300\n",
      "100/100 [==============================] - 0s 2ms/step - loss: 6.7426e-04 - accuracy: 1.0000 - val_loss: 0.0689 - val_accuracy: 0.9887\n",
      "Epoch 111/300\n",
      "100/100 [==============================] - 0s 2ms/step - loss: 6.8568e-04 - accuracy: 1.0000 - val_loss: 0.0681 - val_accuracy: 0.9887\n",
      "Epoch 112/300\n",
      "100/100 [==============================] - 0s 2ms/step - loss: 7.2141e-04 - accuracy: 1.0000 - val_loss: 0.0683 - val_accuracy: 0.9887\n",
      "Epoch 113/300\n",
      "100/100 [==============================] - 0s 2ms/step - loss: 8.8661e-04 - accuracy: 1.0000 - val_loss: 0.0730 - val_accuracy: 0.9887\n",
      "Epoch 114/300\n"
     ]
    },
    {
     "name": "stdout",
     "output_type": "stream",
     "text": [
      "100/100 [==============================] - 0s 2ms/step - loss: 7.2895e-04 - accuracy: 1.0000 - val_loss: 0.0746 - val_accuracy: 0.9887\n",
      "Epoch 115/300\n",
      "100/100 [==============================] - 0s 2ms/step - loss: 6.7091e-04 - accuracy: 1.0000 - val_loss: 0.0739 - val_accuracy: 0.9887\n",
      "Epoch 116/300\n",
      "100/100 [==============================] - 0s 2ms/step - loss: 7.6697e-04 - accuracy: 0.9997 - val_loss: 0.0733 - val_accuracy: 0.9887\n",
      "Epoch 117/300\n",
      "100/100 [==============================] - 0s 2ms/step - loss: 8.4902e-04 - accuracy: 1.0000 - val_loss: 0.0802 - val_accuracy: 0.9887\n",
      "Epoch 118/300\n",
      "100/100 [==============================] - 0s 2ms/step - loss: 8.9115e-04 - accuracy: 0.9997 - val_loss: 0.0779 - val_accuracy: 0.9912\n",
      "Epoch 119/300\n",
      "100/100 [==============================] - 0s 2ms/step - loss: 0.0056 - accuracy: 0.9975 - val_loss: 0.0832 - val_accuracy: 0.9850\n",
      "Epoch 120/300\n",
      "100/100 [==============================] - 0s 2ms/step - loss: 0.0069 - accuracy: 0.9966 - val_loss: 0.0584 - val_accuracy: 0.9875\n",
      "Epoch 121/300\n",
      "100/100 [==============================] - 0s 2ms/step - loss: 0.0035 - accuracy: 0.9981 - val_loss: 0.0890 - val_accuracy: 0.9925\n",
      "Epoch 122/300\n",
      "100/100 [==============================] - 0s 2ms/step - loss: 0.0014 - accuracy: 0.9997 - val_loss: 0.0687 - val_accuracy: 0.9900\n",
      "Epoch 123/300\n",
      "100/100 [==============================] - 0s 2ms/step - loss: 7.8816e-04 - accuracy: 1.0000 - val_loss: 0.0697 - val_accuracy: 0.9900\n",
      "Epoch 124/300\n",
      "100/100 [==============================] - 0s 2ms/step - loss: 6.4144e-04 - accuracy: 1.0000 - val_loss: 0.0693 - val_accuracy: 0.9900\n",
      "Epoch 125/300\n",
      "100/100 [==============================] - 0s 2ms/step - loss: 6.0381e-04 - accuracy: 1.0000 - val_loss: 0.0713 - val_accuracy: 0.9900\n",
      "Epoch 126/300\n",
      "100/100 [==============================] - 0s 2ms/step - loss: 5.7762e-04 - accuracy: 1.0000 - val_loss: 0.0715 - val_accuracy: 0.9900\n",
      "Epoch 127/300\n",
      "100/100 [==============================] - 0s 2ms/step - loss: 5.3635e-04 - accuracy: 1.0000 - val_loss: 0.0727 - val_accuracy: 0.9900\n",
      "Epoch 128/300\n",
      "100/100 [==============================] - 0s 2ms/step - loss: 5.4093e-04 - accuracy: 1.0000 - val_loss: 0.0729 - val_accuracy: 0.9887\n",
      "Epoch 129/300\n",
      "100/100 [==============================] - 0s 2ms/step - loss: 5.5306e-04 - accuracy: 1.0000 - val_loss: 0.0738 - val_accuracy: 0.9887\n",
      "Epoch 130/300\n",
      "100/100 [==============================] - 0s 2ms/step - loss: 5.2234e-04 - accuracy: 1.0000 - val_loss: 0.0725 - val_accuracy: 0.9887\n",
      "Epoch 131/300\n",
      "100/100 [==============================] - 0s 2ms/step - loss: 4.9894e-04 - accuracy: 1.0000 - val_loss: 0.0741 - val_accuracy: 0.9887\n",
      "Epoch 132/300\n",
      "100/100 [==============================] - 0s 2ms/step - loss: 4.9919e-04 - accuracy: 1.0000 - val_loss: 0.0758 - val_accuracy: 0.9887\n",
      "Epoch 133/300\n",
      "100/100 [==============================] - 0s 2ms/step - loss: 4.9027e-04 - accuracy: 1.0000 - val_loss: 0.0751 - val_accuracy: 0.9887\n",
      "Epoch 134/300\n",
      "100/100 [==============================] - 0s 2ms/step - loss: 5.1091e-04 - accuracy: 1.0000 - val_loss: 0.0758 - val_accuracy: 0.9887\n",
      "Epoch 135/300\n",
      "100/100 [==============================] - 0s 2ms/step - loss: 4.8203e-04 - accuracy: 1.0000 - val_loss: 0.0755 - val_accuracy: 0.9887\n",
      "Epoch 136/300\n",
      "100/100 [==============================] - 0s 2ms/step - loss: 5.1932e-04 - accuracy: 1.0000 - val_loss: 0.0753 - val_accuracy: 0.9887\n",
      "Epoch 137/300\n",
      "100/100 [==============================] - 0s 2ms/step - loss: 4.8886e-04 - accuracy: 1.0000 - val_loss: 0.0747 - val_accuracy: 0.9887\n",
      "Epoch 138/300\n",
      "100/100 [==============================] - 0s 2ms/step - loss: 4.6319e-04 - accuracy: 1.0000 - val_loss: 0.0757 - val_accuracy: 0.9887\n",
      "Epoch 139/300\n",
      "100/100 [==============================] - 0s 2ms/step - loss: 4.5083e-04 - accuracy: 1.0000 - val_loss: 0.0759 - val_accuracy: 0.9887\n",
      "Epoch 140/300\n",
      "100/100 [==============================] - 0s 2ms/step - loss: 4.4022e-04 - accuracy: 1.0000 - val_loss: 0.0762 - val_accuracy: 0.9887\n",
      "Epoch 141/300\n",
      "100/100 [==============================] - 0s 2ms/step - loss: 4.4685e-04 - accuracy: 1.0000 - val_loss: 0.0750 - val_accuracy: 0.9887\n",
      "Epoch 142/300\n",
      "100/100 [==============================] - 0s 2ms/step - loss: 4.5608e-04 - accuracy: 1.0000 - val_loss: 0.0757 - val_accuracy: 0.9887\n",
      "Epoch 143/300\n",
      "100/100 [==============================] - 0s 2ms/step - loss: 4.5823e-04 - accuracy: 1.0000 - val_loss: 0.0787 - val_accuracy: 0.9887\n",
      "Epoch 144/300\n",
      "100/100 [==============================] - 0s 2ms/step - loss: 4.2861e-04 - accuracy: 1.0000 - val_loss: 0.0754 - val_accuracy: 0.9887\n",
      "Epoch 145/300\n",
      "100/100 [==============================] - 0s 2ms/step - loss: 4.1699e-04 - accuracy: 1.0000 - val_loss: 0.0787 - val_accuracy: 0.9887\n",
      "Epoch 146/300\n",
      "100/100 [==============================] - 0s 2ms/step - loss: 4.2667e-04 - accuracy: 1.0000 - val_loss: 0.0778 - val_accuracy: 0.9887\n",
      "Epoch 147/300\n",
      "100/100 [==============================] - 0s 2ms/step - loss: 4.1443e-04 - accuracy: 1.0000 - val_loss: 0.0753 - val_accuracy: 0.9887\n",
      "Epoch 148/300\n",
      "100/100 [==============================] - 0s 2ms/step - loss: 4.4750e-04 - accuracy: 1.0000 - val_loss: 0.0782 - val_accuracy: 0.9887\n",
      "Epoch 149/300\n",
      "100/100 [==============================] - 0s 2ms/step - loss: 4.0170e-04 - accuracy: 1.0000 - val_loss: 0.0796 - val_accuracy: 0.9887\n",
      "Epoch 150/300\n",
      "100/100 [==============================] - 0s 2ms/step - loss: 4.6335e-04 - accuracy: 1.0000 - val_loss: 0.0814 - val_accuracy: 0.9887\n",
      "Epoch 151/300\n",
      "100/100 [==============================] - 0s 2ms/step - loss: 4.4901e-04 - accuracy: 1.0000 - val_loss: 0.0808 - val_accuracy: 0.9887\n",
      "Epoch 152/300\n",
      "100/100 [==============================] - 0s 2ms/step - loss: 4.5864e-04 - accuracy: 1.0000 - val_loss: 0.0801 - val_accuracy: 0.9887\n",
      "Epoch 153/300\n",
      "100/100 [==============================] - 0s 2ms/step - loss: 4.1203e-04 - accuracy: 1.0000 - val_loss: 0.0780 - val_accuracy: 0.9887\n",
      "Epoch 154/300\n",
      "100/100 [==============================] - 0s 2ms/step - loss: 4.2865e-04 - accuracy: 1.0000 - val_loss: 0.0781 - val_accuracy: 0.9887\n",
      "Epoch 155/300\n",
      "100/100 [==============================] - 0s 2ms/step - loss: 3.9851e-04 - accuracy: 1.0000 - val_loss: 0.0787 - val_accuracy: 0.9887\n",
      "Epoch 156/300\n",
      "100/100 [==============================] - 0s 2ms/step - loss: 3.6786e-04 - accuracy: 1.0000 - val_loss: 0.0804 - val_accuracy: 0.9887\n",
      "Epoch 157/300\n",
      "100/100 [==============================] - 0s 2ms/step - loss: 3.6955e-04 - accuracy: 1.0000 - val_loss: 0.0819 - val_accuracy: 0.9887\n",
      "Epoch 158/300\n",
      "100/100 [==============================] - 0s 2ms/step - loss: 3.7803e-04 - accuracy: 1.0000 - val_loss: 0.0833 - val_accuracy: 0.9887\n",
      "Epoch 159/300\n",
      "100/100 [==============================] - 0s 2ms/step - loss: 3.4496e-04 - accuracy: 1.0000 - val_loss: 0.0831 - val_accuracy: 0.9887\n",
      "Epoch 160/300\n",
      "100/100 [==============================] - 0s 2ms/step - loss: 3.4825e-04 - accuracy: 1.0000 - val_loss: 0.0811 - val_accuracy: 0.9887\n",
      "Epoch 161/300\n",
      "100/100 [==============================] - 0s 2ms/step - loss: 3.6346e-04 - accuracy: 1.0000 - val_loss: 0.0819 - val_accuracy: 0.9887\n",
      "Epoch 162/300\n",
      "100/100 [==============================] - 0s 2ms/step - loss: 5.0687e-04 - accuracy: 1.0000 - val_loss: 0.0852 - val_accuracy: 0.9887\n",
      "Epoch 163/300\n",
      "100/100 [==============================] - 0s 2ms/step - loss: 4.6908e-04 - accuracy: 1.0000 - val_loss: 0.0863 - val_accuracy: 0.9887\n",
      "Epoch 164/300\n",
      "100/100 [==============================] - 0s 2ms/step - loss: 5.8137e-04 - accuracy: 1.0000 - val_loss: 0.0876 - val_accuracy: 0.9887\n",
      "Epoch 165/300\n",
      "100/100 [==============================] - 0s 2ms/step - loss: 4.6882e-04 - accuracy: 1.0000 - val_loss: 0.0817 - val_accuracy: 0.9887\n",
      "Epoch 166/300\n",
      "100/100 [==============================] - 0s 2ms/step - loss: 3.6786e-04 - accuracy: 1.0000 - val_loss: 0.0870 - val_accuracy: 0.9887\n",
      "Epoch 167/300\n",
      "100/100 [==============================] - 0s 2ms/step - loss: 3.4450e-04 - accuracy: 1.0000 - val_loss: 0.0862 - val_accuracy: 0.9887\n",
      "Epoch 168/300\n",
      "100/100 [==============================] - 0s 2ms/step - loss: 3.0166e-04 - accuracy: 1.0000 - val_loss: 0.0860 - val_accuracy: 0.9887\n",
      "Epoch 169/300\n"
     ]
    },
    {
     "name": "stdout",
     "output_type": "stream",
     "text": [
      "100/100 [==============================] - 0s 2ms/step - loss: 2.9868e-04 - accuracy: 1.0000 - val_loss: 0.0873 - val_accuracy: 0.9887\n",
      "Epoch 170/300\n",
      "100/100 [==============================] - 0s 2ms/step - loss: 2.9065e-04 - accuracy: 1.0000 - val_loss: 0.0853 - val_accuracy: 0.9887\n",
      "Epoch 171/300\n",
      "100/100 [==============================] - 0s 2ms/step - loss: 3.5026e-04 - accuracy: 1.0000 - val_loss: 0.0885 - val_accuracy: 0.9887\n",
      "Epoch 172/300\n",
      "100/100 [==============================] - 0s 2ms/step - loss: 2.9884e-04 - accuracy: 1.0000 - val_loss: 0.0887 - val_accuracy: 0.9887\n",
      "Epoch 173/300\n",
      "100/100 [==============================] - 0s 2ms/step - loss: 2.8802e-04 - accuracy: 1.0000 - val_loss: 0.0904 - val_accuracy: 0.9887\n",
      "Epoch 174/300\n",
      "100/100 [==============================] - 0s 2ms/step - loss: 3.1474e-04 - accuracy: 1.0000 - val_loss: 0.0927 - val_accuracy: 0.9887\n",
      "Epoch 175/300\n",
      "100/100 [==============================] - 0s 2ms/step - loss: 3.8969e-04 - accuracy: 1.0000 - val_loss: 0.0863 - val_accuracy: 0.9875\n",
      "Epoch 176/300\n",
      "100/100 [==============================] - 0s 2ms/step - loss: 0.0016 - accuracy: 0.9997 - val_loss: 0.0870 - val_accuracy: 0.9900\n",
      "Epoch 177/300\n",
      "100/100 [==============================] - 0s 2ms/step - loss: 0.0104 - accuracy: 0.9969 - val_loss: 0.0505 - val_accuracy: 0.9900\n",
      "Epoch 178/300\n",
      "100/100 [==============================] - 0s 2ms/step - loss: 0.0067 - accuracy: 0.9984 - val_loss: 0.0460 - val_accuracy: 0.9912\n",
      "Epoch 179/300\n",
      "100/100 [==============================] - 0s 2ms/step - loss: 7.3972e-04 - accuracy: 1.0000 - val_loss: 0.0564 - val_accuracy: 0.9900\n",
      "Epoch 180/300\n",
      "100/100 [==============================] - 0s 2ms/step - loss: 4.2281e-04 - accuracy: 1.0000 - val_loss: 0.0582 - val_accuracy: 0.9900\n",
      "Epoch 181/300\n",
      "100/100 [==============================] - 0s 2ms/step - loss: 3.5835e-04 - accuracy: 1.0000 - val_loss: 0.0593 - val_accuracy: 0.9900\n",
      "Epoch 182/300\n",
      "100/100 [==============================] - 0s 2ms/step - loss: 3.1254e-04 - accuracy: 1.0000 - val_loss: 0.0605 - val_accuracy: 0.9900\n",
      "Epoch 183/300\n",
      "100/100 [==============================] - 0s 2ms/step - loss: 2.8861e-04 - accuracy: 1.0000 - val_loss: 0.0607 - val_accuracy: 0.9900\n",
      "Epoch 184/300\n",
      "100/100 [==============================] - 0s 2ms/step - loss: 2.8052e-04 - accuracy: 1.0000 - val_loss: 0.0618 - val_accuracy: 0.9900\n",
      "Epoch 185/300\n",
      "100/100 [==============================] - 0s 2ms/step - loss: 2.7085e-04 - accuracy: 1.0000 - val_loss: 0.0618 - val_accuracy: 0.9900\n",
      "Epoch 186/300\n",
      "100/100 [==============================] - 0s 2ms/step - loss: 2.6020e-04 - accuracy: 1.0000 - val_loss: 0.0622 - val_accuracy: 0.9900\n",
      "Epoch 187/300\n",
      "100/100 [==============================] - 0s 2ms/step - loss: 2.5165e-04 - accuracy: 1.0000 - val_loss: 0.0628 - val_accuracy: 0.9900\n",
      "Epoch 188/300\n",
      "100/100 [==============================] - 0s 2ms/step - loss: 2.4205e-04 - accuracy: 1.0000 - val_loss: 0.0631 - val_accuracy: 0.9900\n",
      "Epoch 189/300\n",
      "100/100 [==============================] - 0s 2ms/step - loss: 2.4260e-04 - accuracy: 1.0000 - val_loss: 0.0635 - val_accuracy: 0.9900\n",
      "Epoch 190/300\n",
      "100/100 [==============================] - 0s 2ms/step - loss: 2.4494e-04 - accuracy: 1.0000 - val_loss: 0.0629 - val_accuracy: 0.9900\n",
      "Epoch 191/300\n",
      "100/100 [==============================] - 0s 2ms/step - loss: 2.3062e-04 - accuracy: 1.0000 - val_loss: 0.0633 - val_accuracy: 0.9900\n",
      "Epoch 192/300\n",
      "100/100 [==============================] - 0s 2ms/step - loss: 2.2622e-04 - accuracy: 1.0000 - val_loss: 0.0644 - val_accuracy: 0.9912\n",
      "Epoch 193/300\n",
      "100/100 [==============================] - 0s 2ms/step - loss: 2.2272e-04 - accuracy: 1.0000 - val_loss: 0.0648 - val_accuracy: 0.9912\n",
      "Epoch 194/300\n",
      "100/100 [==============================] - 0s 2ms/step - loss: 2.1950e-04 - accuracy: 1.0000 - val_loss: 0.0654 - val_accuracy: 0.9912\n",
      "Epoch 195/300\n",
      "100/100 [==============================] - 0s 2ms/step - loss: 2.1241e-04 - accuracy: 1.0000 - val_loss: 0.0658 - val_accuracy: 0.9912\n",
      "Epoch 196/300\n",
      "100/100 [==============================] - 0s 2ms/step - loss: 2.1070e-04 - accuracy: 1.0000 - val_loss: 0.0662 - val_accuracy: 0.9912\n",
      "Epoch 197/300\n",
      "100/100 [==============================] - 0s 2ms/step - loss: 2.0728e-04 - accuracy: 1.0000 - val_loss: 0.0666 - val_accuracy: 0.9912\n",
      "Epoch 198/300\n",
      "100/100 [==============================] - 0s 2ms/step - loss: 2.0187e-04 - accuracy: 1.0000 - val_loss: 0.0676 - val_accuracy: 0.9912\n",
      "Epoch 199/300\n",
      "100/100 [==============================] - 0s 2ms/step - loss: 2.0200e-04 - accuracy: 1.0000 - val_loss: 0.0686 - val_accuracy: 0.9912\n",
      "Epoch 200/300\n",
      "100/100 [==============================] - 0s 2ms/step - loss: 2.0590e-04 - accuracy: 1.0000 - val_loss: 0.0679 - val_accuracy: 0.9912\n",
      "Epoch 201/300\n",
      "100/100 [==============================] - 0s 2ms/step - loss: 1.9428e-04 - accuracy: 1.0000 - val_loss: 0.0684 - val_accuracy: 0.9912\n",
      "Epoch 202/300\n",
      "100/100 [==============================] - 0s 2ms/step - loss: 1.8603e-04 - accuracy: 1.0000 - val_loss: 0.0686 - val_accuracy: 0.9912\n",
      "Epoch 203/300\n",
      "100/100 [==============================] - 0s 2ms/step - loss: 1.8956e-04 - accuracy: 1.0000 - val_loss: 0.0698 - val_accuracy: 0.9912\n",
      "Epoch 204/300\n",
      "100/100 [==============================] - 0s 2ms/step - loss: 1.8285e-04 - accuracy: 1.0000 - val_loss: 0.0702 - val_accuracy: 0.9912\n",
      "Epoch 205/300\n",
      "100/100 [==============================] - 0s 2ms/step - loss: 1.9403e-04 - accuracy: 1.0000 - val_loss: 0.0716 - val_accuracy: 0.9912\n",
      "Epoch 206/300\n",
      "100/100 [==============================] - 0s 2ms/step - loss: 1.8396e-04 - accuracy: 1.0000 - val_loss: 0.0711 - val_accuracy: 0.9912\n",
      "Epoch 207/300\n",
      "100/100 [==============================] - 0s 3ms/step - loss: 1.7669e-04 - accuracy: 1.0000 - val_loss: 0.0721 - val_accuracy: 0.9912\n",
      "Epoch 208/300\n",
      "100/100 [==============================] - 0s 2ms/step - loss: 1.8390e-04 - accuracy: 1.0000 - val_loss: 0.0703 - val_accuracy: 0.9900\n",
      "Epoch 209/300\n",
      "100/100 [==============================] - 0s 3ms/step - loss: 1.7984e-04 - accuracy: 1.0000 - val_loss: 0.0725 - val_accuracy: 0.9900\n",
      "Epoch 210/300\n",
      "100/100 [==============================] - 0s 3ms/step - loss: 1.7001e-04 - accuracy: 1.0000 - val_loss: 0.0734 - val_accuracy: 0.9912\n",
      "Epoch 211/300\n",
      "100/100 [==============================] - 0s 2ms/step - loss: 1.6920e-04 - accuracy: 1.0000 - val_loss: 0.0715 - val_accuracy: 0.9900\n",
      "Epoch 212/300\n",
      "100/100 [==============================] - 0s 2ms/step - loss: 1.6741e-04 - accuracy: 1.0000 - val_loss: 0.0731 - val_accuracy: 0.9900\n",
      "Epoch 213/300\n",
      "100/100 [==============================] - 0s 2ms/step - loss: 1.6063e-04 - accuracy: 1.0000 - val_loss: 0.0737 - val_accuracy: 0.9900\n",
      "Epoch 214/300\n",
      "100/100 [==============================] - 0s 3ms/step - loss: 1.5602e-04 - accuracy: 1.0000 - val_loss: 0.0741 - val_accuracy: 0.9900\n",
      "Epoch 215/300\n",
      "100/100 [==============================] - 0s 2ms/step - loss: 1.5805e-04 - accuracy: 1.0000 - val_loss: 0.0746 - val_accuracy: 0.9900\n",
      "Epoch 216/300\n",
      "100/100 [==============================] - 0s 2ms/step - loss: 1.5830e-04 - accuracy: 1.0000 - val_loss: 0.0760 - val_accuracy: 0.9900\n",
      "Epoch 217/300\n",
      "100/100 [==============================] - 0s 2ms/step - loss: 1.5186e-04 - accuracy: 1.0000 - val_loss: 0.0749 - val_accuracy: 0.9900\n",
      "Epoch 218/300\n",
      "100/100 [==============================] - 0s 2ms/step - loss: 1.4627e-04 - accuracy: 1.0000 - val_loss: 0.0768 - val_accuracy: 0.9900\n",
      "Epoch 219/300\n",
      "100/100 [==============================] - 0s 2ms/step - loss: 1.4754e-04 - accuracy: 1.0000 - val_loss: 0.0749 - val_accuracy: 0.9900\n",
      "Epoch 220/300\n",
      "100/100 [==============================] - 0s 2ms/step - loss: 1.4563e-04 - accuracy: 1.0000 - val_loss: 0.0765 - val_accuracy: 0.9900\n",
      "Epoch 221/300\n",
      "100/100 [==============================] - 0s 2ms/step - loss: 1.4432e-04 - accuracy: 1.0000 - val_loss: 0.0762 - val_accuracy: 0.9900\n",
      "Epoch 222/300\n",
      "100/100 [==============================] - 0s 2ms/step - loss: 1.4152e-04 - accuracy: 1.0000 - val_loss: 0.0777 - val_accuracy: 0.9900\n",
      "Epoch 223/300\n",
      "100/100 [==============================] - 0s 2ms/step - loss: 1.4512e-04 - accuracy: 1.0000 - val_loss: 0.0800 - val_accuracy: 0.9900\n",
      "Epoch 224/300\n"
     ]
    },
    {
     "name": "stdout",
     "output_type": "stream",
     "text": [
      "100/100 [==============================] - 0s 2ms/step - loss: 1.4009e-04 - accuracy: 1.0000 - val_loss: 0.0800 - val_accuracy: 0.9900\n",
      "Epoch 225/300\n",
      "100/100 [==============================] - 0s 2ms/step - loss: 1.3931e-04 - accuracy: 1.0000 - val_loss: 0.0821 - val_accuracy: 0.9900\n",
      "Epoch 226/300\n",
      "100/100 [==============================] - 0s 2ms/step - loss: 1.4316e-04 - accuracy: 1.0000 - val_loss: 0.0818 - val_accuracy: 0.9900\n",
      "Epoch 227/300\n",
      "100/100 [==============================] - 0s 2ms/step - loss: 1.4082e-04 - accuracy: 1.0000 - val_loss: 0.0811 - val_accuracy: 0.9900\n",
      "Epoch 228/300\n",
      "100/100 [==============================] - 0s 2ms/step - loss: 1.2673e-04 - accuracy: 1.0000 - val_loss: 0.0809 - val_accuracy: 0.9900\n",
      "Epoch 229/300\n",
      "100/100 [==============================] - 0s 2ms/step - loss: 1.2511e-04 - accuracy: 1.0000 - val_loss: 0.0822 - val_accuracy: 0.9887\n",
      "Epoch 230/300\n",
      "100/100 [==============================] - 0s 2ms/step - loss: 1.2441e-04 - accuracy: 1.0000 - val_loss: 0.0820 - val_accuracy: 0.9900\n",
      "Epoch 231/300\n",
      "100/100 [==============================] - 0s 2ms/step - loss: 1.2247e-04 - accuracy: 1.0000 - val_loss: 0.0826 - val_accuracy: 0.9900\n",
      "Epoch 232/300\n",
      "100/100 [==============================] - 0s 2ms/step - loss: 1.2278e-04 - accuracy: 1.0000 - val_loss: 0.0850 - val_accuracy: 0.9900\n",
      "Epoch 233/300\n",
      "100/100 [==============================] - 0s 2ms/step - loss: 1.4273e-04 - accuracy: 1.0000 - val_loss: 0.0828 - val_accuracy: 0.9900\n",
      "Epoch 234/300\n",
      "100/100 [==============================] - 0s 2ms/step - loss: 1.2444e-04 - accuracy: 1.0000 - val_loss: 0.0814 - val_accuracy: 0.9887\n",
      "Epoch 235/300\n",
      "100/100 [==============================] - 0s 2ms/step - loss: 1.1666e-04 - accuracy: 1.0000 - val_loss: 0.0822 - val_accuracy: 0.9887\n",
      "Epoch 236/300\n",
      "100/100 [==============================] - 0s 2ms/step - loss: 1.1315e-04 - accuracy: 1.0000 - val_loss: 0.0839 - val_accuracy: 0.9887\n",
      "Epoch 237/300\n",
      "100/100 [==============================] - 0s 2ms/step - loss: 1.1429e-04 - accuracy: 1.0000 - val_loss: 0.0821 - val_accuracy: 0.9887\n",
      "Epoch 238/300\n",
      "100/100 [==============================] - 0s 2ms/step - loss: 1.2296e-04 - accuracy: 1.0000 - val_loss: 0.0849 - val_accuracy: 0.9887\n",
      "Epoch 239/300\n",
      "100/100 [==============================] - 0s 2ms/step - loss: 1.4539e-04 - accuracy: 1.0000 - val_loss: 0.0842 - val_accuracy: 0.9887\n",
      "Epoch 240/300\n",
      "100/100 [==============================] - 0s 2ms/step - loss: 0.0016 - accuracy: 0.9994 - val_loss: 0.0564 - val_accuracy: 0.9912\n",
      "Epoch 241/300\n",
      "100/100 [==============================] - 0s 2ms/step - loss: 0.0083 - accuracy: 0.9975 - val_loss: 0.0980 - val_accuracy: 0.9875\n",
      "Epoch 242/300\n",
      "100/100 [==============================] - 0s 2ms/step - loss: 0.0087 - accuracy: 0.9987 - val_loss: 0.0567 - val_accuracy: 0.9912\n",
      "Epoch 243/300\n",
      "100/100 [==============================] - 0s 2ms/step - loss: 7.6755e-04 - accuracy: 0.9997 - val_loss: 0.0568 - val_accuracy: 0.9925\n",
      "Epoch 244/300\n",
      "100/100 [==============================] - 0s 2ms/step - loss: 2.8059e-04 - accuracy: 1.0000 - val_loss: 0.0577 - val_accuracy: 0.9925\n",
      "Epoch 245/300\n",
      "100/100 [==============================] - 0s 2ms/step - loss: 2.1901e-04 - accuracy: 1.0000 - val_loss: 0.0580 - val_accuracy: 0.9925\n",
      "Epoch 246/300\n",
      "100/100 [==============================] - 0s 2ms/step - loss: 1.9423e-04 - accuracy: 1.0000 - val_loss: 0.0584 - val_accuracy: 0.9925\n",
      "Epoch 247/300\n",
      "100/100 [==============================] - 0s 2ms/step - loss: 1.8034e-04 - accuracy: 1.0000 - val_loss: 0.0590 - val_accuracy: 0.9925\n",
      "Epoch 248/300\n",
      "100/100 [==============================] - 0s 2ms/step - loss: 1.6493e-04 - accuracy: 1.0000 - val_loss: 0.0596 - val_accuracy: 0.9925\n",
      "Epoch 249/300\n",
      "100/100 [==============================] - 0s 2ms/step - loss: 1.5612e-04 - accuracy: 1.0000 - val_loss: 0.0602 - val_accuracy: 0.9925\n",
      "Epoch 250/300\n",
      "100/100 [==============================] - 0s 2ms/step - loss: 1.5015e-04 - accuracy: 1.0000 - val_loss: 0.0607 - val_accuracy: 0.9925\n",
      "Epoch 251/300\n",
      "100/100 [==============================] - 0s 2ms/step - loss: 1.4615e-04 - accuracy: 1.0000 - val_loss: 0.0610 - val_accuracy: 0.9925\n",
      "Epoch 252/300\n",
      "100/100 [==============================] - 0s 2ms/step - loss: 1.4051e-04 - accuracy: 1.0000 - val_loss: 0.0616 - val_accuracy: 0.9925\n",
      "Epoch 253/300\n",
      "100/100 [==============================] - 0s 2ms/step - loss: 1.3645e-04 - accuracy: 1.0000 - val_loss: 0.0621 - val_accuracy: 0.9925\n",
      "Epoch 254/300\n",
      "100/100 [==============================] - 0s 2ms/step - loss: 1.3292e-04 - accuracy: 1.0000 - val_loss: 0.0627 - val_accuracy: 0.9925\n",
      "Epoch 255/300\n",
      "100/100 [==============================] - 0s 2ms/step - loss: 1.3049e-04 - accuracy: 1.0000 - val_loss: 0.0632 - val_accuracy: 0.9925\n",
      "Epoch 256/300\n",
      "100/100 [==============================] - 0s 2ms/step - loss: 1.2890e-04 - accuracy: 1.0000 - val_loss: 0.0638 - val_accuracy: 0.9912\n",
      "Epoch 257/300\n",
      "100/100 [==============================] - 0s 2ms/step - loss: 1.2610e-04 - accuracy: 1.0000 - val_loss: 0.0643 - val_accuracy: 0.9912\n",
      "Epoch 258/300\n",
      "100/100 [==============================] - 0s 2ms/step - loss: 1.2270e-04 - accuracy: 1.0000 - val_loss: 0.0648 - val_accuracy: 0.9912\n",
      "Epoch 259/300\n",
      "100/100 [==============================] - 0s 2ms/step - loss: 1.2028e-04 - accuracy: 1.0000 - val_loss: 0.0652 - val_accuracy: 0.9912\n",
      "Epoch 260/300\n",
      "100/100 [==============================] - 0s 2ms/step - loss: 1.1837e-04 - accuracy: 1.0000 - val_loss: 0.0658 - val_accuracy: 0.9912\n",
      "Epoch 261/300\n",
      "100/100 [==============================] - 0s 2ms/step - loss: 1.1601e-04 - accuracy: 1.0000 - val_loss: 0.0663 - val_accuracy: 0.9912\n",
      "Epoch 262/300\n",
      "100/100 [==============================] - 0s 2ms/step - loss: 1.1521e-04 - accuracy: 1.0000 - val_loss: 0.0664 - val_accuracy: 0.9912\n",
      "Epoch 263/300\n",
      "100/100 [==============================] - 0s 2ms/step - loss: 1.1688e-04 - accuracy: 1.0000 - val_loss: 0.0671 - val_accuracy: 0.9912\n",
      "Epoch 264/300\n",
      "100/100 [==============================] - 0s 3ms/step - loss: 1.1341e-04 - accuracy: 1.0000 - val_loss: 0.0677 - val_accuracy: 0.9912\n",
      "Epoch 265/300\n",
      "100/100 [==============================] - 0s 2ms/step - loss: 1.1144e-04 - accuracy: 1.0000 - val_loss: 0.0687 - val_accuracy: 0.9912\n",
      "Epoch 266/300\n",
      "100/100 [==============================] - 0s 2ms/step - loss: 1.0942e-04 - accuracy: 1.0000 - val_loss: 0.0694 - val_accuracy: 0.9900\n",
      "Epoch 267/300\n",
      "100/100 [==============================] - 0s 2ms/step - loss: 1.0830e-04 - accuracy: 1.0000 - val_loss: 0.0698 - val_accuracy: 0.9900\n",
      "Epoch 268/300\n",
      "100/100 [==============================] - 0s 2ms/step - loss: 1.0626e-04 - accuracy: 1.0000 - val_loss: 0.0701 - val_accuracy: 0.9900\n",
      "Epoch 269/300\n",
      "100/100 [==============================] - 0s 2ms/step - loss: 1.0440e-04 - accuracy: 1.0000 - val_loss: 0.0706 - val_accuracy: 0.9900\n",
      "Epoch 270/300\n",
      "100/100 [==============================] - 0s 2ms/step - loss: 1.0283e-04 - accuracy: 1.0000 - val_loss: 0.0710 - val_accuracy: 0.9900\n",
      "Epoch 271/300\n",
      "100/100 [==============================] - 0s 2ms/step - loss: 1.0122e-04 - accuracy: 1.0000 - val_loss: 0.0712 - val_accuracy: 0.9900\n",
      "Epoch 272/300\n",
      "100/100 [==============================] - 0s 2ms/step - loss: 9.9675e-05 - accuracy: 1.0000 - val_loss: 0.0718 - val_accuracy: 0.9900\n",
      "Epoch 273/300\n",
      "100/100 [==============================] - 0s 2ms/step - loss: 1.0211e-04 - accuracy: 1.0000 - val_loss: 0.0717 - val_accuracy: 0.9900\n",
      "Epoch 274/300\n",
      "100/100 [==============================] - 0s 3ms/step - loss: 1.0020e-04 - accuracy: 1.0000 - val_loss: 0.0723 - val_accuracy: 0.9900\n",
      "Epoch 275/300\n",
      "100/100 [==============================] - 0s 3ms/step - loss: 9.7575e-05 - accuracy: 1.0000 - val_loss: 0.0732 - val_accuracy: 0.9900\n",
      "Epoch 276/300\n",
      "100/100 [==============================] - 0s 3ms/step - loss: 9.7936e-05 - accuracy: 1.0000 - val_loss: 0.0740 - val_accuracy: 0.9900\n",
      "Epoch 277/300\n",
      "100/100 [==============================] - 0s 2ms/step - loss: 9.5513e-05 - accuracy: 1.0000 - val_loss: 0.0759 - val_accuracy: 0.9900\n",
      "Epoch 278/300\n",
      "100/100 [==============================] - 0s 2ms/step - loss: 9.4004e-05 - accuracy: 1.0000 - val_loss: 0.0763 - val_accuracy: 0.9900\n",
      "Epoch 279/300\n"
     ]
    },
    {
     "name": "stdout",
     "output_type": "stream",
     "text": [
      "100/100 [==============================] - 0s 2ms/step - loss: 9.3060e-05 - accuracy: 1.0000 - val_loss: 0.0761 - val_accuracy: 0.9900\n",
      "Epoch 280/300\n",
      "100/100 [==============================] - 0s 2ms/step - loss: 9.1047e-05 - accuracy: 1.0000 - val_loss: 0.0764 - val_accuracy: 0.9900\n",
      "Epoch 281/300\n",
      "100/100 [==============================] - 0s 2ms/step - loss: 8.9884e-05 - accuracy: 1.0000 - val_loss: 0.0766 - val_accuracy: 0.9900\n",
      "Epoch 282/300\n",
      "100/100 [==============================] - 0s 2ms/step - loss: 9.0082e-05 - accuracy: 1.0000 - val_loss: 0.0763 - val_accuracy: 0.9900\n",
      "Epoch 283/300\n",
      "100/100 [==============================] - 0s 2ms/step - loss: 8.9864e-05 - accuracy: 1.0000 - val_loss: 0.0770 - val_accuracy: 0.9900\n",
      "Epoch 284/300\n",
      "100/100 [==============================] - 0s 2ms/step - loss: 9.0671e-05 - accuracy: 1.0000 - val_loss: 0.0783 - val_accuracy: 0.9900\n",
      "Epoch 285/300\n",
      "100/100 [==============================] - 0s 2ms/step - loss: 9.3697e-05 - accuracy: 1.0000 - val_loss: 0.0779 - val_accuracy: 0.9900\n",
      "Epoch 286/300\n",
      "100/100 [==============================] - 0s 2ms/step - loss: 9.1602e-05 - accuracy: 1.0000 - val_loss: 0.0782 - val_accuracy: 0.9900\n",
      "Epoch 287/300\n",
      "100/100 [==============================] - 0s 2ms/step - loss: 8.6683e-05 - accuracy: 1.0000 - val_loss: 0.0800 - val_accuracy: 0.9900\n",
      "Epoch 288/300\n",
      "100/100 [==============================] - 0s 2ms/step - loss: 8.5054e-05 - accuracy: 1.0000 - val_loss: 0.0809 - val_accuracy: 0.9900\n",
      "Epoch 289/300\n",
      "100/100 [==============================] - 0s 3ms/step - loss: 8.2706e-05 - accuracy: 1.0000 - val_loss: 0.0811 - val_accuracy: 0.9900\n",
      "Epoch 290/300\n",
      "100/100 [==============================] - 0s 2ms/step - loss: 8.1177e-05 - accuracy: 1.0000 - val_loss: 0.0812 - val_accuracy: 0.9900\n",
      "Epoch 291/300\n",
      "100/100 [==============================] - 0s 2ms/step - loss: 7.9655e-05 - accuracy: 1.0000 - val_loss: 0.0820 - val_accuracy: 0.9900\n",
      "Epoch 292/300\n",
      "100/100 [==============================] - 0s 2ms/step - loss: 7.9755e-05 - accuracy: 1.0000 - val_loss: 0.0821 - val_accuracy: 0.9900\n",
      "Epoch 293/300\n",
      "100/100 [==============================] - 0s 2ms/step - loss: 7.7863e-05 - accuracy: 1.0000 - val_loss: 0.0822 - val_accuracy: 0.9900\n",
      "Epoch 294/300\n",
      "100/100 [==============================] - 0s 2ms/step - loss: 7.6941e-05 - accuracy: 1.0000 - val_loss: 0.0823 - val_accuracy: 0.9900\n",
      "Epoch 295/300\n",
      "100/100 [==============================] - 0s 2ms/step - loss: 7.5481e-05 - accuracy: 1.0000 - val_loss: 0.0812 - val_accuracy: 0.9900\n",
      "Epoch 296/300\n",
      "100/100 [==============================] - 0s 2ms/step - loss: 7.4483e-05 - accuracy: 1.0000 - val_loss: 0.0817 - val_accuracy: 0.9900\n",
      "Epoch 297/300\n",
      "100/100 [==============================] - 0s 3ms/step - loss: 7.2576e-05 - accuracy: 1.0000 - val_loss: 0.0822 - val_accuracy: 0.9900\n",
      "Epoch 298/300\n",
      "100/100 [==============================] - 0s 3ms/step - loss: 7.3308e-05 - accuracy: 1.0000 - val_loss: 0.0838 - val_accuracy: 0.9900\n",
      "Epoch 299/300\n",
      "100/100 [==============================] - 0s 2ms/step - loss: 7.1141e-05 - accuracy: 1.0000 - val_loss: 0.0838 - val_accuracy: 0.9900\n",
      "Epoch 300/300\n",
      "100/100 [==============================] - 0s 2ms/step - loss: 7.6418e-05 - accuracy: 1.0000 - val_loss: 0.0905 - val_accuracy: 0.9900\n"
     ]
    }
   ],
   "source": [
    "# Fit your model and assign the output to \"history\"\n",
    "# YOUR CODE HERE\n",
    "history = model.fit(train_X,\n",
    "                    train_y,\n",
    "                    epochs=300,\n",
    "                    batch_size=32,\n",
    "                    validation_split=0.2)"
   ]
  },
  {
   "cell_type": "code",
   "execution_count": null,
   "metadata": {
    "deletable": false,
    "editable": false,
    "nbgrader": {
     "checksum": "541272efd42130944e9642d1dd6ee968",
     "grade": true,
     "grade_id": "cell-3935cb799d43f3a9",
     "locked": true,
     "points": 2,
     "schema_version": 1,
     "solution": false
    }
   },
   "outputs": [],
   "source": []
  },
  {
   "cell_type": "markdown",
   "metadata": {
    "deletable": false,
    "editable": false,
    "id": "fcSh9odtRzSX",
    "nbgrader": {
     "checksum": "0c374f8f13ea6bb7e9501e19dba6fb93",
     "grade": false,
     "grade_id": "cell-b3e98ad010c5994f",
     "locked": true,
     "schema_version": 1,
     "solution": false
    }
   },
   "source": [
    "Let's plot the training and loss curves to see if ***overfitting*** is going on and if **early stopping** may be needed."
   ]
  },
  {
   "cell_type": "code",
   "execution_count": 37,
   "metadata": {
    "colab": {
     "base_uri": "https://localhost:8080/"
    },
    "deletable": false,
    "editable": false,
    "id": "p507juxRR29_",
    "nbgrader": {
     "checksum": "0aa16dc492d54455336508c8bc91c220",
     "grade": false,
     "grade_id": "cell-bac17269359c1cee",
     "locked": true,
     "schema_version": 1,
     "solution": false
    },
    "outputId": "6e81bfa4-b488-4d42-f943-43dfdb8b6847"
   },
   "outputs": [
    {
     "data": {
      "text/plain": [
       "dict_keys(['loss', 'accuracy', 'val_loss', 'val_accuracy'])"
      ]
     },
     "execution_count": 37,
     "metadata": {},
     "output_type": "execute_result"
    }
   ],
   "source": [
    "history_dict = history.history\n",
    "history_dict.keys()"
   ]
  },
  {
   "cell_type": "code",
   "execution_count": 38,
   "metadata": {
    "colab": {
     "base_uri": "https://localhost:8080/",
     "height": 295
    },
    "deletable": false,
    "editable": false,
    "id": "n4WU9GeVR6QW",
    "nbgrader": {
     "checksum": "5a424659787c0960b557db32c81d0ad2",
     "grade": false,
     "grade_id": "cell-09a019af44a442e6",
     "locked": true,
     "schema_version": 1,
     "solution": false
    },
    "outputId": "bfa319e1-5dd3-467e-bff0-6bad77a2cee2"
   },
   "outputs": [
    {
     "data": {
      "image/png": "[encoded data removed]",
      "text/plain": [
       "<Figure size 432x288 with 1 Axes>"
      ]
     },
     "metadata": {
      "needs_background": "light"
     },
     "output_type": "display_data"
    }
   ],
   "source": [
    "loss_values = history_dict[\"loss\"]\n",
    "val_loss_values = history_dict[\"val_loss\"]\n",
    "epochs = range(1, len(loss_values) + 1)\n",
    "plt.plot(epochs, loss_values, \"bo\", label=\"Training loss\")\n",
    "plt.plot(epochs, val_loss_values, \"b\", label=\"Validation loss\")\n",
    "plt.title(\"Training and validation loss\")\n",
    "plt.xlabel(\"Epochs\")\n",
    "plt.ylabel(\"Loss\")\n",
    "plt.legend()\n",
    "plt.show()"
   ]
  },
  {
   "cell_type": "markdown",
   "metadata": {
    "deletable": false,
    "editable": false,
    "id": "nqh87CoqVuNH",
    "nbgrader": {
     "checksum": "bf952a88d27a217d9735ca253fae5f0d",
     "grade": false,
     "grade_id": "cell-ae3b1a66da60f235",
     "locked": true,
     "schema_version": 1,
     "solution": false
    }
   },
   "source": [
    "\n",
    "Let's look at the accuracy curves as well.\n",
    "\n"
   ]
  },
  {
   "cell_type": "code",
   "execution_count": 39,
   "metadata": {
    "colab": {
     "base_uri": "https://localhost:8080/",
     "height": 295
    },
    "deletable": false,
    "editable": false,
    "id": "z-tzis2kSlw1",
    "nbgrader": {
     "checksum": "ea3797f0f814580109328bcc1c4ef564",
     "grade": false,
     "grade_id": "cell-c37f82917a08e46b",
     "locked": true,
     "schema_version": 1,
     "solution": false
    },
    "outputId": "d23ed076-32af-4d07-fc2a-52730ea2e232"
   },
   "outputs": [
    {
     "data": {
      "image/png": "[encoded data removed]",
      "text/plain": [
       "<Figure size 432x288 with 1 Axes>"
      ]
     },
     "metadata": {
      "needs_background": "light"
     },
     "output_type": "display_data"
    }
   ],
   "source": [
    "plt.clf()\n",
    "acc = history_dict[\"accuracy\"]\n",
    "val_acc = history_dict[\"val_accuracy\"]\n",
    "plt.plot(epochs, acc, \"bo\", label=\"Training acc\")\n",
    "plt.plot(epochs, val_acc, \"b\", label=\"Validation acc\")\n",
    "plt.title(\"Training and validation accuracy\")\n",
    "plt.xlabel(\"Epochs\")\n",
    "plt.ylabel(\"Accuracy\")\n",
    "plt.legend()\n",
    "plt.show()"
   ]
  },
  {
   "cell_type": "markdown",
   "metadata": {
    "deletable": false,
    "editable": false,
    "id": "bO7mShgiqJlo",
    "nbgrader": {
     "checksum": "3bb581158f25e7de1d482a605643d8e3",
     "grade": false,
     "grade_id": "cell-bd1d501d2d403dbf",
     "locked": true,
     "schema_version": 1,
     "solution": false
    }
   },
   "source": [
    "**Do you think there's overfitting?**\n",
    "\n",
    "If you think there's overfitting at epoch N, we could go back, re-initialize the model and just run it for  N epochs - that would an example of **early stopping**.\n",
    "\n",
    "I invite you to try exactly that and compare to the test set accuracy calculated below. Perhaps you can do better!"
   ]
  },
  {
   "cell_type": "markdown",
   "metadata": {
    "deletable": false,
    "editable": false,
    "id": "uWI1kI27RZun",
    "nbgrader": {
     "checksum": "583568b66619b16e5c288726d692db5c",
     "grade": false,
     "grade_id": "cell-e44e48c05734b8f0",
     "locked": true,
     "schema_version": 1,
     "solution": false
    }
   },
   "source": [
    "## Evaluate the model\n",
    "\n",
    "Let's see **how well the model does on the test set**. \n",
    "\n",
    "`model.evaluate` is a very handy function to calculate the performance of your model on any dataset."
   ]
  },
  {
   "cell_type": "code",
   "execution_count": 40,
   "metadata": {
    "colab": {
     "base_uri": "https://localhost:8080/"
    },
    "deletable": false,
    "editable": false,
    "id": "PDyP_S4LRlb9",
    "nbgrader": {
     "checksum": "f15c242f8ba15917a61453aed985de00",
     "grade": false,
     "grade_id": "cell-890732a94da1795f",
     "locked": true,
     "schema_version": 1,
     "solution": false
    },
    "outputId": "21e9d112-3254-4b54-c1ec-384fcd9a6c3b"
   },
   "outputs": [
    {
     "name": "stdout",
     "output_type": "stream",
     "text": [
      "32/32 [==============================] - 0s 1ms/step - loss: 0.0521 - accuracy: 0.9960\n"
     ]
    }
   ],
   "source": [
    "# Getting the results of your model for grading\n",
    "score, acc = model.evaluate(X_test, y_test)"
   ]
  },
  {
   "cell_type": "code",
   "execution_count": 41,
   "metadata": {
    "deletable": false,
    "editable": false,
    "nbgrader": {
     "checksum": "301b7f33612956102a16474d4d70b254",
     "grade": true,
     "grade_id": "cell-b2c1a6030d2f048d",
     "locked": true,
     "points": 2,
     "schema_version": 1,
     "solution": false
    }
   },
   "outputs": [],
   "source": [
    "### This box will pass if your accuracy is over 97%"
   ]
  },
  {
   "cell_type": "markdown",
   "metadata": {
    "deletable": false,
    "editable": false,
    "id": "leTkFFNdpSWD",
    "nbgrader": {
     "checksum": "e70f90ff5501555f8e07df9cb0ed9e60",
     "grade": false,
     "grade_id": "cell-fc5ec9dbe8129a49",
     "locked": true,
     "schema_version": 1,
     "solution": false
    }
   },
   "source": [
    "To assess if this accuracy number is impressive, we can compare it the accuracy of a simple, baseline model. \n",
    "\n",
    "What's a reasonable baseline model?"
   ]
  },
  {
   "cell_type": "code",
   "execution_count": 42,
   "metadata": {
    "colab": {
     "base_uri": "https://localhost:8080/"
    },
    "deletable": false,
    "editable": false,
    "id": "b3pLMvVmphCC",
    "nbgrader": {
     "checksum": "7b81bc823e4bc7cd8a95aa03b66f9029",
     "grade": false,
     "grade_id": "cell-144b3e2fc5d75317",
     "locked": true,
     "schema_version": 1,
     "solution": false
    },
    "outputId": "48720014-ee2f-47ba-eab3-e96299ec7b55"
   },
   "outputs": [
    {
     "data": {
      "text/plain": [
       "1.0    0.584034\n",
       "0.0    0.415966\n",
       "Name: Target, dtype: float64"
      ]
     },
     "execution_count": 42,
     "metadata": {},
     "output_type": "execute_result"
    }
   ],
   "source": [
    "y.value_counts(normalize=True)"
   ]
  },
  {
   "cell_type": "markdown",
   "metadata": {
    "deletable": false,
    "editable": false,
    "id": "3g6LK65Xpz3r",
    "nbgrader": {
     "checksum": "b3f9ffba17adb7bff6c8f6a39c5be766",
     "grade": false,
     "grade_id": "cell-ca7ca0eeecfb19c7",
     "locked": true,
     "schema_version": 1,
     "solution": false
    }
   },
   "source": [
    "If we predict 0 for every point, the accuracy will be 41.6%. So the 98.2% accuracy from our DL model is excellent!!\n"
   ]
  }
 ],
 "metadata": {
  "accelerator": "GPU",
  "colab": {
   "provenance": []
  },
  "kernelspec": {
   "display_name": "Python 3",
   "language": "python",
   "name": "python3"
  },
  "language_info": {
   "codemirror_mode": {
    "name": "ipython",
    "version": 3
   },
   "file_extension": ".py",
   "mimetype": "text/x-python",
   "name": "python",
   "nbconvert_exporter": "python",
   "pygments_lexer": "ipython3",
   "version": "3.6.9"
  }
 },
 "nbformat": 4,
 "nbformat_minor": 1
}
